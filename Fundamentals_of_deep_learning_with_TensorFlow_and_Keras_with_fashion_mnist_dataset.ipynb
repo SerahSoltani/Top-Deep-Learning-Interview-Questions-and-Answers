{
  "cells": [
    {
      "cell_type": "markdown",
      "metadata": {
        "id": "ZwEG4rc6zTw_"
      },
      "source": [
        "https://github.com/zalandoresearch/fashion-mnist\n",
        "\n",
        "https://keras.io/api/datasets/fashion_mnist/"
      ]
    },
    {
      "cell_type": "code",
      "execution_count": null,
      "metadata": {
        "colab": {
          "background_save": true,
          "base_uri": "https://localhost:8080/"
        },
        "id": "UZ0-SdpSzocb",
        "outputId": "39d491b2-378b-4cfe-9207-646c1e056832"
      },
      "outputs": [
        {
          "name": "stdout",
          "output_type": "stream",
          "text": [
            "2.15.0\n"
          ]
        }
      ],
      "source": [
        "import tensorflow as tf\n",
        "from tensorflow import keras\n",
        "import numpy as np\n",
        "\n",
        "print(tf.version.VERSION)  # Access the version directly from the keras module"
      ]
    },
    {
      "cell_type": "markdown",
      "metadata": {
        "id": "DH8ir3uo02xy"
      },
      "source": [
        "#Classification"
      ]
    },
    {
      "cell_type": "code",
      "execution_count": null,
      "metadata": {
        "colab": {
          "background_save": true
        },
        "id": "9k5lHyUPvi0B"
      },
      "outputs": [],
      "source": [
        "fmnist_data = keras.datasets.fashion_mnist"
      ]
    },
    {
      "cell_type": "code",
      "execution_count": null,
      "metadata": {
        "colab": {
          "background_save": true,
          "base_uri": "https://localhost:8080/"
        },
        "id": "RBlzORSHyPPI",
        "outputId": "a47c7655-27d9-4ed1-eef0-39a3625a12a9"
      },
      "outputs": [
        {
          "name": "stdout",
          "output_type": "stream",
          "text": [
            "Downloading data from https://storage.googleapis.com/tensorflow/tf-keras-datasets/train-labels-idx1-ubyte.gz\n",
            "29515/29515 [==============================] - 0s 0us/step\n",
            "Downloading data from https://storage.googleapis.com/tensorflow/tf-keras-datasets/train-images-idx3-ubyte.gz\n",
            "26421880/26421880 [==============================] - 0s 0us/step\n",
            "Downloading data from https://storage.googleapis.com/tensorflow/tf-keras-datasets/t10k-labels-idx1-ubyte.gz\n",
            "5148/5148 [==============================] - 0s 0us/step\n",
            "Downloading data from https://storage.googleapis.com/tensorflow/tf-keras-datasets/t10k-images-idx3-ubyte.gz\n",
            "4422102/4422102 [==============================] - 0s 0us/step\n"
          ]
        },
        {
          "data": {
            "text/plain": [
              "((array([[[0, 0, 0, ..., 0, 0, 0],\n",
              "          [0, 0, 0, ..., 0, 0, 0],\n",
              "          [0, 0, 0, ..., 0, 0, 0],\n",
              "          ...,\n",
              "          [0, 0, 0, ..., 0, 0, 0],\n",
              "          [0, 0, 0, ..., 0, 0, 0],\n",
              "          [0, 0, 0, ..., 0, 0, 0]],\n",
              "  \n",
              "         [[0, 0, 0, ..., 0, 0, 0],\n",
              "          [0, 0, 0, ..., 0, 0, 0],\n",
              "          [0, 0, 0, ..., 0, 0, 0],\n",
              "          ...,\n",
              "          [0, 0, 0, ..., 0, 0, 0],\n",
              "          [0, 0, 0, ..., 0, 0, 0],\n",
              "          [0, 0, 0, ..., 0, 0, 0]],\n",
              "  \n",
              "         [[0, 0, 0, ..., 0, 0, 0],\n",
              "          [0, 0, 0, ..., 0, 0, 0],\n",
              "          [0, 0, 0, ..., 0, 0, 0],\n",
              "          ...,\n",
              "          [0, 0, 0, ..., 0, 0, 0],\n",
              "          [0, 0, 0, ..., 0, 0, 0],\n",
              "          [0, 0, 0, ..., 0, 0, 0]],\n",
              "  \n",
              "         ...,\n",
              "  \n",
              "         [[0, 0, 0, ..., 0, 0, 0],\n",
              "          [0, 0, 0, ..., 0, 0, 0],\n",
              "          [0, 0, 0, ..., 0, 0, 0],\n",
              "          ...,\n",
              "          [0, 0, 0, ..., 0, 0, 0],\n",
              "          [0, 0, 0, ..., 0, 0, 0],\n",
              "          [0, 0, 0, ..., 0, 0, 0]],\n",
              "  \n",
              "         [[0, 0, 0, ..., 0, 0, 0],\n",
              "          [0, 0, 0, ..., 0, 0, 0],\n",
              "          [0, 0, 0, ..., 0, 0, 0],\n",
              "          ...,\n",
              "          [0, 0, 0, ..., 0, 0, 0],\n",
              "          [0, 0, 0, ..., 0, 0, 0],\n",
              "          [0, 0, 0, ..., 0, 0, 0]],\n",
              "  \n",
              "         [[0, 0, 0, ..., 0, 0, 0],\n",
              "          [0, 0, 0, ..., 0, 0, 0],\n",
              "          [0, 0, 0, ..., 0, 0, 0],\n",
              "          ...,\n",
              "          [0, 0, 0, ..., 0, 0, 0],\n",
              "          [0, 0, 0, ..., 0, 0, 0],\n",
              "          [0, 0, 0, ..., 0, 0, 0]]], dtype=uint8),\n",
              "  array([9, 0, 0, ..., 3, 0, 5], dtype=uint8)),\n",
              " (array([[[0, 0, 0, ..., 0, 0, 0],\n",
              "          [0, 0, 0, ..., 0, 0, 0],\n",
              "          [0, 0, 0, ..., 0, 0, 0],\n",
              "          ...,\n",
              "          [0, 0, 0, ..., 0, 0, 0],\n",
              "          [0, 0, 0, ..., 0, 0, 0],\n",
              "          [0, 0, 0, ..., 0, 0, 0]],\n",
              "  \n",
              "         [[0, 0, 0, ..., 0, 0, 0],\n",
              "          [0, 0, 0, ..., 0, 0, 0],\n",
              "          [0, 0, 0, ..., 0, 0, 0],\n",
              "          ...,\n",
              "          [0, 0, 0, ..., 0, 0, 0],\n",
              "          [0, 0, 0, ..., 0, 0, 0],\n",
              "          [0, 0, 0, ..., 0, 0, 0]],\n",
              "  \n",
              "         [[0, 0, 0, ..., 0, 0, 0],\n",
              "          [0, 0, 0, ..., 0, 0, 0],\n",
              "          [0, 0, 0, ..., 0, 0, 0],\n",
              "          ...,\n",
              "          [0, 0, 0, ..., 0, 0, 0],\n",
              "          [0, 0, 0, ..., 0, 0, 0],\n",
              "          [0, 0, 0, ..., 0, 0, 0]],\n",
              "  \n",
              "         ...,\n",
              "  \n",
              "         [[0, 0, 0, ..., 0, 0, 0],\n",
              "          [0, 0, 0, ..., 0, 0, 0],\n",
              "          [0, 0, 0, ..., 0, 0, 0],\n",
              "          ...,\n",
              "          [0, 0, 0, ..., 0, 0, 0],\n",
              "          [0, 0, 0, ..., 0, 0, 0],\n",
              "          [0, 0, 0, ..., 0, 0, 0]],\n",
              "  \n",
              "         [[0, 0, 0, ..., 0, 0, 0],\n",
              "          [0, 0, 0, ..., 0, 0, 0],\n",
              "          [0, 0, 0, ..., 0, 0, 0],\n",
              "          ...,\n",
              "          [0, 0, 0, ..., 0, 0, 0],\n",
              "          [0, 0, 0, ..., 0, 0, 0],\n",
              "          [0, 0, 0, ..., 0, 0, 0]],\n",
              "  \n",
              "         [[0, 0, 0, ..., 0, 0, 0],\n",
              "          [0, 0, 0, ..., 0, 0, 0],\n",
              "          [0, 0, 0, ..., 0, 0, 0],\n",
              "          ...,\n",
              "          [0, 0, 0, ..., 0, 0, 0],\n",
              "          [0, 0, 0, ..., 0, 0, 0],\n",
              "          [0, 0, 0, ..., 0, 0, 0]]], dtype=uint8),\n",
              "  array([9, 2, 1, ..., 8, 1, 5], dtype=uint8)))"
            ]
          },
          "execution_count": 3,
          "metadata": {},
          "output_type": "execute_result"
        }
      ],
      "source": [
        "fmnist_data.load_data()"
      ]
    },
    {
      "cell_type": "code",
      "execution_count": null,
      "metadata": {
        "colab": {
          "background_save": true
        },
        "id": "vWqmNPoCyVP5"
      },
      "outputs": [],
      "source": [
        "(x_train, y_train), (x_test, y_test) = fmnist_data.load_data()"
      ]
    },
    {
      "cell_type": "code",
      "execution_count": null,
      "metadata": {
        "colab": {
          "background_save": true,
          "base_uri": "https://localhost:8080/"
        },
        "id": "se9LUjsgyieK",
        "outputId": "56a01145-c210-4487-8c6c-a1e52ac37644"
      },
      "outputs": [
        {
          "data": {
            "text/plain": [
              "(60000, 28, 28)"
            ]
          },
          "execution_count": 5,
          "metadata": {},
          "output_type": "execute_result"
        }
      ],
      "source": [
        "x_train.shape"
      ]
    },
    {
      "cell_type": "code",
      "execution_count": null,
      "metadata": {
        "colab": {
          "background_save": true,
          "base_uri": "https://localhost:8080/"
        },
        "id": "rNUD5JTQy7AQ",
        "outputId": "a0ae4f70-a259-40c5-fb06-e4eb2a27e643"
      },
      "outputs": [
        {
          "data": {
            "text/plain": [
              "(10000, 28, 28)"
            ]
          },
          "execution_count": 6,
          "metadata": {},
          "output_type": "execute_result"
        }
      ],
      "source": [
        "x_test.shape"
      ]
    },
    {
      "cell_type": "code",
      "execution_count": null,
      "metadata": {
        "colab": {
          "background_save": true,
          "base_uri": "https://localhost:8080/"
        },
        "id": "4wtb9ocuzAsQ",
        "outputId": "e4beb04a-62e5-41bd-bbc1-47167cb0b759"
      },
      "outputs": [
        {
          "data": {
            "text/plain": [
              "(60000,)"
            ]
          },
          "execution_count": 7,
          "metadata": {},
          "output_type": "execute_result"
        }
      ],
      "source": [
        "y_train.shape     #this is a vector"
      ]
    },
    {
      "cell_type": "code",
      "execution_count": null,
      "metadata": {
        "colab": {
          "background_save": true,
          "base_uri": "https://localhost:8080/"
        },
        "id": "Dydk2e1NzETY",
        "outputId": "153ac2b9-6cf0-43e5-e349-3cd451f9b8d9"
      },
      "outputs": [
        {
          "data": {
            "text/plain": [
              "array([9, 0, 0, 3, 0, 2, 7, 2, 5, 5], dtype=uint8)"
            ]
          },
          "execution_count": 8,
          "metadata": {},
          "output_type": "execute_result"
        }
      ],
      "source": [
        "y_train[:10]      #index of our targets"
      ]
    },
    {
      "cell_type": "code",
      "execution_count": null,
      "metadata": {
        "colab": {
          "background_save": true,
          "base_uri": "https://localhost:8080/",
          "height": 69
        },
        "id": "WL7IsQDTIxdW",
        "outputId": "253b55ed-c040-4dd0-fadb-2da6a3fd1663"
      },
      "outputs": [
        {
          "data": {
            "text/html": [
              "<style>\n",
              "      .ndarray_repr .ndarray_raw_data {\n",
              "        display: none;\n",
              "      }\n",
              "      .ndarray_repr.show_array .ndarray_raw_data {\n",
              "        display: block;\n",
              "      }\n",
              "      .ndarray_repr.show_array .ndarray_image_preview {\n",
              "        display: none;\n",
              "      }\n",
              "      </style>\n",
              "      <div id=\"id-76ad1326-c868-4564-ba3b-23250a989f16\" class=\"ndarray_repr\"><pre>ndarray (28, 28) <button style=\"padding: 0 2px;\">show data</button></pre><img src=\"data:image/png;base64,iVBORw0KGgoAAAANSUhEUgAAABwAAAAcCAAAAABXZoBIAAAB90lEQVR4nF2QvWvTURSGn3PuTUwaSVMtlLZDBT+g0CragnQQwcnFQRAcdHNy0KngXyAIDg5O4qKuDrrp4ChFOthBsNrSxZZ0MMXYD5tffvfe45CkX2d9eF7e9wgAYsD487cL7Xzi5srTJvsnwMUnyz/WGmZmPxfT+qvJPQDVN+d1ezdPvn8nGZTKxc939+CnsY3kg6C5ooDY8PVF8ABTYw3vyiN9mvsohbC1Foj3Zrvm7MNGcvFFfW1kXfPi8UsPGr7qT4EC3ArOSuFlPvXhcnlocPNZ9KV/I+e6sRdW3TGqfNwZn313w3+dCpWYfs0s4YHJ30FdeYOJbPix5DJDfTSl1pXXeOBReTuWW2H65InCUN4q1m4P7PZLcboTOzd0plpZjl9Sis5L1K2litP6+97OgbP3r672NwsOEG31f7sDdAvxZz67ZsWKS4ikUrs01/mrAkgR23LJujmOJk560HJW/voMExCyApuo9SDKbtuCExNRbXuJB2IxUjRTMRVRS5qwfQiMijMRAM3FHTaJFBERJBWCFY6YLRc0mUvmfaR20AQSCKhgYqHcMX0PKlgHqoU+DnzIAAcmOEw0Hiok0BYhSVQwie5IIdRQFaTjH55SJ2RZ3s6ydo65I4VqFT+oWoTgVvtOo2kPirHwvVlAt01CymvzJID/CjnVF438ZwEAAAAASUVORK5CYII=\" class=\"ndarray_image_preview\" /><pre class=\"ndarray_raw_data\">array([[  0,   0,   0,   0,   0,   1,   0,   0,   0,   0,  41, 188, 103,\n",
              "         54,  48,  43,  87, 168, 133,  16,   0,   0,   0,   0,   0,   0,\n",
              "          0,   0],\n",
              "       [  0,   0,   0,   1,   0,   0,   0,  49, 136, 219, 216, 228, 236,\n",
              "        255, 255, 255, 255, 217, 215, 254, 231, 160,  45,   0,   0,   0,\n",
              "          0,   0],\n",
              "       [  0,   0,   0,   0,   0,  14, 176, 222, 224, 212, 203, 198, 196,\n",
              "        200, 215, 204, 202, 201, 201, 201, 209, 218, 224, 164,   0,   0,\n",
              "          0,   0],\n",
              "       [  0,   0,   0,   0,   0, 188, 219, 200, 198, 202, 198, 199, 199,\n",
              "        201, 196, 198, 198, 200, 200, 200, 200, 201, 200, 225,  41,   0,\n",
              "          0,   0],\n",
              "       [  0,   0,   0,   0,  51, 219, 199, 203, 203, 212, 238, 248, 250,\n",
              "        245, 249, 246, 247, 252, 248, 235, 207, 203, 203, 222, 140,   0,\n",
              "          0,   0],\n",
              "       [  0,   0,   0,   0, 116, 226, 206, 204, 207, 204, 101,  75,  47,\n",
              "         73,  48,  50,  45,  51,  63, 113, 222, 202, 206, 220, 224,   0,\n",
              "          0,   0],\n",
              "       [  0,   0,   0,   0, 200, 222, 209, 203, 215, 200,   0,  70,  98,\n",
              "          0, 103,  59,  68,  71,  49,   0, 219, 206, 214, 210, 250,  38,\n",
              "          0,   0],\n",
              "       [  0,   0,   0,   0, 247, 218, 212, 210, 215, 214,   0, 254, 243,\n",
              "        139, 255, 174, 251, 255, 205,   0, 215, 217, 214, 208, 220,  95,\n",
              "          0,   0],\n",
              "       [  0,   0,   0,  45, 226, 214, 214, 215, 224, 205,   0,  42,  35,\n",
              "         60,  16,  17,  12,  13,  70,   0, 189, 216, 212, 206, 212, 156,\n",
              "          0,   0],\n",
              "       [  0,   0,   0, 164, 235, 214, 211, 220, 216, 201,  52,  71,  89,\n",
              "         94,  83,  78,  70,  76,  92,  87, 206, 207, 222, 213, 219, 208,\n",
              "          0,   0],\n",
              "       [  0,   0,   0, 106, 187, 223, 237, 248, 211, 198, 252, 250, 248,\n",
              "        245, 248, 252, 253, 250, 252, 239, 201, 212, 225, 215, 193, 113,\n",
              "          0,   0],\n",
              "       [  0,   0,   0,   0,   0,  17,  54, 159, 222, 193, 208, 192, 197,\n",
              "        200, 200, 200, 200, 201, 203, 195, 210, 165,   0,   0,   0,   0,\n",
              "          0,   0],\n",
              "       [  0,   0,   0,   0,   0,   0,   0,  47, 225, 192, 214, 203, 206,\n",
              "        204, 204, 205, 206, 204, 212, 197, 218, 107,   0,   0,   0,   0,\n",
              "          0,   0],\n",
              "       [  0,   0,   0,   0,   1,   6,   0,  46, 212, 195, 212, 202, 206,\n",
              "        205, 204, 205, 206, 204, 212, 200, 218,  91,   0,   3,   1,   0,\n",
              "          0,   0],\n",
              "       [  0,   0,   0,   0,   0,   1,   0,  11, 197, 199, 205, 202, 205,\n",
              "        206, 204, 205, 207, 204, 205, 205, 218,  77,   0,   5,   0,   0,\n",
              "          0,   0],\n",
              "       [  0,   0,   0,   0,   0,   3,   0,   2, 191, 198, 201, 205, 206,\n",
              "        205, 205, 206, 209, 206, 199, 209, 219,  74,   0,   5,   0,   0,\n",
              "          0,   0],\n",
              "       [  0,   0,   0,   0,   0,   2,   0,   0, 188, 197, 200, 207, 207,\n",
              "        204, 207, 207, 210, 208, 198, 207, 221,  72,   0,   4,   0,   0,\n",
              "          0,   0],\n",
              "       [  0,   0,   0,   0,   0,   2,   0,   0, 215, 198, 203, 206, 208,\n",
              "        205, 207, 207, 210, 208, 200, 202, 222,  75,   0,   4,   0,   0,\n",
              "          0,   0],\n",
              "       [  0,   0,   0,   0,   0,   1,   0,   0, 212, 198, 209, 206, 209,\n",
              "        206, 208, 207, 211, 206, 205, 198, 221,  80,   0,   3,   0,   0,\n",
              "          0,   0],\n",
              "       [  0,   0,   0,   0,   0,   1,   0,   0, 204, 201, 205, 208, 207,\n",
              "        205, 211, 205, 210, 210, 209, 195, 221,  96,   0,   3,   0,   0,\n",
              "          0,   0],\n",
              "       [  0,   0,   0,   0,   0,   1,   0,   0, 202, 201, 205, 209, 207,\n",
              "        205, 213, 206, 210, 209, 210, 194, 217, 105,   0,   2,   0,   0,\n",
              "          0,   0],\n",
              "       [  0,   0,   0,   0,   0,   1,   0,   0, 204, 204, 205, 208, 207,\n",
              "        205, 215, 207, 210, 208, 211, 193, 213, 115,   0,   2,   0,   0,\n",
              "          0,   0],\n",
              "       [  0,   0,   0,   0,   0,   0,   0,   0, 204, 207, 207, 208, 206,\n",
              "        206, 215, 210, 210, 207, 212, 195, 210, 118,   0,   2,   0,   0,\n",
              "          0,   0],\n",
              "       [  0,   0,   0,   0,   0,   1,   0,   0, 198, 208, 208, 208, 204,\n",
              "        207, 212, 212, 210, 207, 211, 196, 207, 121,   0,   1,   0,   0,\n",
              "          0,   0],\n",
              "       [  0,   0,   0,   0,   0,   1,   0,   0, 198, 210, 207, 208, 206,\n",
              "        209, 213, 212, 211, 207, 210, 197, 207, 124,   0,   1,   0,   0,\n",
              "          0,   0],\n",
              "       [  0,   0,   0,   0,   0,   0,   0,   0, 172, 210, 203, 201, 199,\n",
              "        204, 207, 205, 204, 201, 205, 197, 206, 127,   0,   0,   0,   0,\n",
              "          0,   0],\n",
              "       [  0,   0,   0,   0,   0,   0,   0,   0, 188, 221, 214, 234, 236,\n",
              "        238, 244, 244, 244, 240, 243, 214, 224, 162,   0,   2,   0,   0,\n",
              "          0,   0],\n",
              "       [  0,   0,   0,   0,   0,   1,   0,   0, 139, 146, 130, 135, 135,\n",
              "        137, 125, 124, 125, 121, 119, 114, 130,  76,   0,   0,   0,   0,\n",
              "          0,   0]], dtype=uint8)</pre></div><script>\n",
              "      (() => {\n",
              "      const titles = ['show data', 'hide data'];\n",
              "      let index = 0\n",
              "      document.querySelector('#id-76ad1326-c868-4564-ba3b-23250a989f16 button').onclick = (e) => {\n",
              "        document.querySelector('#id-76ad1326-c868-4564-ba3b-23250a989f16').classList.toggle('show_array');\n",
              "        index = (++index) % 2;\n",
              "        document.querySelector('#id-76ad1326-c868-4564-ba3b-23250a989f16 button').textContent = titles[index];\n",
              "        e.preventDefault();\n",
              "        e.stopPropagation();\n",
              "      }\n",
              "      })();\n",
              "    </script>"
            ],
            "text/plain": [
              "array([[  0,   0,   0,   0,   0,   1,   0,   0,   0,   0,  41, 188, 103,\n",
              "         54,  48,  43,  87, 168, 133,  16,   0,   0,   0,   0,   0,   0,\n",
              "          0,   0],\n",
              "       [  0,   0,   0,   1,   0,   0,   0,  49, 136, 219, 216, 228, 236,\n",
              "        255, 255, 255, 255, 217, 215, 254, 231, 160,  45,   0,   0,   0,\n",
              "          0,   0],\n",
              "       [  0,   0,   0,   0,   0,  14, 176, 222, 224, 212, 203, 198, 196,\n",
              "        200, 215, 204, 202, 201, 201, 201, 209, 218, 224, 164,   0,   0,\n",
              "          0,   0],\n",
              "       [  0,   0,   0,   0,   0, 188, 219, 200, 198, 202, 198, 199, 199,\n",
              "        201, 196, 198, 198, 200, 200, 200, 200, 201, 200, 225,  41,   0,\n",
              "          0,   0],\n",
              "       [  0,   0,   0,   0,  51, 219, 199, 203, 203, 212, 238, 248, 250,\n",
              "        245, 249, 246, 247, 252, 248, 235, 207, 203, 203, 222, 140,   0,\n",
              "          0,   0],\n",
              "       [  0,   0,   0,   0, 116, 226, 206, 204, 207, 204, 101,  75,  47,\n",
              "         73,  48,  50,  45,  51,  63, 113, 222, 202, 206, 220, 224,   0,\n",
              "          0,   0],\n",
              "       [  0,   0,   0,   0, 200, 222, 209, 203, 215, 200,   0,  70,  98,\n",
              "          0, 103,  59,  68,  71,  49,   0, 219, 206, 214, 210, 250,  38,\n",
              "          0,   0],\n",
              "       [  0,   0,   0,   0, 247, 218, 212, 210, 215, 214,   0, 254, 243,\n",
              "        139, 255, 174, 251, 255, 205,   0, 215, 217, 214, 208, 220,  95,\n",
              "          0,   0],\n",
              "       [  0,   0,   0,  45, 226, 214, 214, 215, 224, 205,   0,  42,  35,\n",
              "         60,  16,  17,  12,  13,  70,   0, 189, 216, 212, 206, 212, 156,\n",
              "          0,   0],\n",
              "       [  0,   0,   0, 164, 235, 214, 211, 220, 216, 201,  52,  71,  89,\n",
              "         94,  83,  78,  70,  76,  92,  87, 206, 207, 222, 213, 219, 208,\n",
              "          0,   0],\n",
              "       [  0,   0,   0, 106, 187, 223, 237, 248, 211, 198, 252, 250, 248,\n",
              "        245, 248, 252, 253, 250, 252, 239, 201, 212, 225, 215, 193, 113,\n",
              "          0,   0],\n",
              "       [  0,   0,   0,   0,   0,  17,  54, 159, 222, 193, 208, 192, 197,\n",
              "        200, 200, 200, 200, 201, 203, 195, 210, 165,   0,   0,   0,   0,\n",
              "          0,   0],\n",
              "       [  0,   0,   0,   0,   0,   0,   0,  47, 225, 192, 214, 203, 206,\n",
              "        204, 204, 205, 206, 204, 212, 197, 218, 107,   0,   0,   0,   0,\n",
              "          0,   0],\n",
              "       [  0,   0,   0,   0,   1,   6,   0,  46, 212, 195, 212, 202, 206,\n",
              "        205, 204, 205, 206, 204, 212, 200, 218,  91,   0,   3,   1,   0,\n",
              "          0,   0],\n",
              "       [  0,   0,   0,   0,   0,   1,   0,  11, 197, 199, 205, 202, 205,\n",
              "        206, 204, 205, 207, 204, 205, 205, 218,  77,   0,   5,   0,   0,\n",
              "          0,   0],\n",
              "       [  0,   0,   0,   0,   0,   3,   0,   2, 191, 198, 201, 205, 206,\n",
              "        205, 205, 206, 209, 206, 199, 209, 219,  74,   0,   5,   0,   0,\n",
              "          0,   0],\n",
              "       [  0,   0,   0,   0,   0,   2,   0,   0, 188, 197, 200, 207, 207,\n",
              "        204, 207, 207, 210, 208, 198, 207, 221,  72,   0,   4,   0,   0,\n",
              "          0,   0],\n",
              "       [  0,   0,   0,   0,   0,   2,   0,   0, 215, 198, 203, 206, 208,\n",
              "        205, 207, 207, 210, 208, 200, 202, 222,  75,   0,   4,   0,   0,\n",
              "          0,   0],\n",
              "       [  0,   0,   0,   0,   0,   1,   0,   0, 212, 198, 209, 206, 209,\n",
              "        206, 208, 207, 211, 206, 205, 198, 221,  80,   0,   3,   0,   0,\n",
              "          0,   0],\n",
              "       [  0,   0,   0,   0,   0,   1,   0,   0, 204, 201, 205, 208, 207,\n",
              "        205, 211, 205, 210, 210, 209, 195, 221,  96,   0,   3,   0,   0,\n",
              "          0,   0],\n",
              "       [  0,   0,   0,   0,   0,   1,   0,   0, 202, 201, 205, 209, 207,\n",
              "        205, 213, 206, 210, 209, 210, 194, 217, 105,   0,   2,   0,   0,\n",
              "          0,   0],\n",
              "       [  0,   0,   0,   0,   0,   1,   0,   0, 204, 204, 205, 208, 207,\n",
              "        205, 215, 207, 210, 208, 211, 193, 213, 115,   0,   2,   0,   0,\n",
              "          0,   0],\n",
              "       [  0,   0,   0,   0,   0,   0,   0,   0, 204, 207, 207, 208, 206,\n",
              "        206, 215, 210, 210, 207, 212, 195, 210, 118,   0,   2,   0,   0,\n",
              "          0,   0],\n",
              "       [  0,   0,   0,   0,   0,   1,   0,   0, 198, 208, 208, 208, 204,\n",
              "        207, 212, 212, 210, 207, 211, 196, 207, 121,   0,   1,   0,   0,\n",
              "          0,   0],\n",
              "       [  0,   0,   0,   0,   0,   1,   0,   0, 198, 210, 207, 208, 206,\n",
              "        209, 213, 212, 211, 207, 210, 197, 207, 124,   0,   1,   0,   0,\n",
              "          0,   0],\n",
              "       [  0,   0,   0,   0,   0,   0,   0,   0, 172, 210, 203, 201, 199,\n",
              "        204, 207, 205, 204, 201, 205, 197, 206, 127,   0,   0,   0,   0,\n",
              "          0,   0],\n",
              "       [  0,   0,   0,   0,   0,   0,   0,   0, 188, 221, 214, 234, 236,\n",
              "        238, 244, 244, 244, 240, 243, 214, 224, 162,   0,   2,   0,   0,\n",
              "          0,   0],\n",
              "       [  0,   0,   0,   0,   0,   1,   0,   0, 139, 146, 130, 135, 135,\n",
              "        137, 125, 124, 125, 121, 119, 114, 130,  76,   0,   0,   0,   0,\n",
              "          0,   0]], dtype=uint8)"
            ]
          },
          "execution_count": 9,
          "metadata": {},
          "output_type": "execute_result"
        }
      ],
      "source": [
        "x_train[1,]"
      ]
    },
    {
      "cell_type": "code",
      "execution_count": null,
      "metadata": {
        "colab": {
          "background_save": true,
          "base_uri": "https://localhost:8080/"
        },
        "id": "rHMAjnylzySP",
        "outputId": "5feaf6b6-ceb1-4c2d-f93d-8f973be2210c"
      },
      "outputs": [
        {
          "data": {
            "text/plain": [
              "(10000,)"
            ]
          },
          "execution_count": 10,
          "metadata": {},
          "output_type": "execute_result"
        }
      ],
      "source": [
        "y_test.shape"
      ]
    },
    {
      "cell_type": "markdown",
      "metadata": {
        "id": "gw-jlPLV3TAu"
      },
      "source": [
        "If we visualize x_test and y_test:\n",
        "\n",
        "x_test can be thought of as a stack of 28x28 images, stacked 10,000 high.\n",
        "y_test is a 1D array with 10,000 elements, where each element is the label for the corresponding image in x_test. This difference in dimensions is natural because x_test holds the image data, which is inherently 2D for each image, and y_test holds the labels, which are inherently 1D."
      ]
    },
    {
      "cell_type": "markdown",
      "metadata": {
        "id": "gQoB6rVTHmmv"
      },
      "source": [
        "**Feature Normalization**:"
      ]
    },
    {
      "cell_type": "code",
      "execution_count": null,
      "metadata": {
        "colab": {
          "background_save": true
        },
        "id": "cvJf3mdDz2e9"
      },
      "outputs": [],
      "source": [
        "import matplotlib.pyplot as plt"
      ]
    },
    {
      "cell_type": "code",
      "execution_count": null,
      "metadata": {
        "colab": {
          "background_save": true
        },
        "id": "FEjPZaJcIimQ"
      },
      "outputs": [],
      "source": [
        "#!pip install matplotlib"
      ]
    },
    {
      "cell_type": "code",
      "execution_count": null,
      "metadata": {
        "colab": {
          "background_save": true,
          "base_uri": "https://localhost:8080/",
          "height": 447
        },
        "id": "CKWcG8M2I89m",
        "outputId": "6991b8c7-2a31-4b14-881d-123719f2359d"
      },
      "outputs": [
        {
          "data": {
            "text/plain": [
              "<matplotlib.image.AxesImage at 0x79c9aef26b30>"
            ]
          },
          "execution_count": 13,
          "metadata": {},
          "output_type": "execute_result"
        },
        {
          "data": {
            "image/png": "[encoded data removed]",
            "text/plain": [
              "<Figure size 640x480 with 1 Axes>"
            ]
          },
          "metadata": {},
          "output_type": "display_data"
        }
      ],
      "source": [
        "plt.imshow(x_train[1,], cmap=\"gray\")"
      ]
    },
    {
      "cell_type": "code",
      "execution_count": null,
      "metadata": {
        "colab": {
          "background_save": true
        },
        "id": "LuuR5aB-J3dC"
      },
      "outputs": [],
      "source": [
        "#normalize on train\n",
        "x_train, x_test = x_train/255, x_test/255"
      ]
    },
    {
      "cell_type": "code",
      "execution_count": null,
      "metadata": {
        "colab": {
          "background_save": true,
          "base_uri": "https://localhost:8080/"
        },
        "id": "uFpgt79IKx2l",
        "outputId": "643860c2-971e-4ab5-bbe8-b783dd348afa"
      },
      "outputs": [
        {
          "data": {
            "text/plain": [
              "array([[[0., 0., 0., ..., 0., 0., 0.],\n",
              "        [0., 0., 0., ..., 0., 0., 0.],\n",
              "        [0., 0., 0., ..., 0., 0., 0.],\n",
              "        ...,\n",
              "        [0., 0., 0., ..., 0., 0., 0.],\n",
              "        [0., 0., 0., ..., 0., 0., 0.],\n",
              "        [0., 0., 0., ..., 0., 0., 0.]],\n",
              "\n",
              "       [[0., 0., 0., ..., 0., 0., 0.],\n",
              "        [0., 0., 0., ..., 0., 0., 0.],\n",
              "        [0., 0., 0., ..., 0., 0., 0.],\n",
              "        ...,\n",
              "        [0., 0., 0., ..., 0., 0., 0.],\n",
              "        [0., 0., 0., ..., 0., 0., 0.],\n",
              "        [0., 0., 0., ..., 0., 0., 0.]],\n",
              "\n",
              "       [[0., 0., 0., ..., 0., 0., 0.],\n",
              "        [0., 0., 0., ..., 0., 0., 0.],\n",
              "        [0., 0., 0., ..., 0., 0., 0.],\n",
              "        ...,\n",
              "        [0., 0., 0., ..., 0., 0., 0.],\n",
              "        [0., 0., 0., ..., 0., 0., 0.],\n",
              "        [0., 0., 0., ..., 0., 0., 0.]],\n",
              "\n",
              "       ...,\n",
              "\n",
              "       [[0., 0., 0., ..., 0., 0., 0.],\n",
              "        [0., 0., 0., ..., 0., 0., 0.],\n",
              "        [0., 0., 0., ..., 0., 0., 0.],\n",
              "        ...,\n",
              "        [0., 0., 0., ..., 0., 0., 0.],\n",
              "        [0., 0., 0., ..., 0., 0., 0.],\n",
              "        [0., 0., 0., ..., 0., 0., 0.]],\n",
              "\n",
              "       [[0., 0., 0., ..., 0., 0., 0.],\n",
              "        [0., 0., 0., ..., 0., 0., 0.],\n",
              "        [0., 0., 0., ..., 0., 0., 0.],\n",
              "        ...,\n",
              "        [0., 0., 0., ..., 0., 0., 0.],\n",
              "        [0., 0., 0., ..., 0., 0., 0.],\n",
              "        [0., 0., 0., ..., 0., 0., 0.]],\n",
              "\n",
              "       [[0., 0., 0., ..., 0., 0., 0.],\n",
              "        [0., 0., 0., ..., 0., 0., 0.],\n",
              "        [0., 0., 0., ..., 0., 0., 0.],\n",
              "        ...,\n",
              "        [0., 0., 0., ..., 0., 0., 0.],\n",
              "        [0., 0., 0., ..., 0., 0., 0.],\n",
              "        [0., 0., 0., ..., 0., 0., 0.]]])"
            ]
          },
          "execution_count": 15,
          "metadata": {},
          "output_type": "execute_result"
        }
      ],
      "source": [
        "x_train"
      ]
    },
    {
      "cell_type": "markdown",
      "metadata": {
        "id": "lKc5mEUPLSoF"
      },
      "source": [
        "#create model with keras\n",
        "  \n",
        "*   https://keras.io/guides/sequential_model/\n",
        "*   https://keras.io/api/models/sequential/\n",
        "*   https://keras.io/api/layers/reshaping_layers/flatten/ :flatten for the first layer because we have picture but in convolutional we don't need flatten\n",
        "\n",
        "*   In dense model you have to give 1D array or a vector for input layer\n",
        "\n",
        "\n"
      ]
    },
    {
      "cell_type": "code",
      "execution_count": null,
      "metadata": {
        "colab": {
          "background_save": true,
          "base_uri": "https://localhost:8080/"
        },
        "id": "sX-QKazmqgPq",
        "outputId": "b4ba7168-e736-4e67-85f7-7eb994992446"
      },
      "outputs": [
        {
          "data": {
            "text/plain": [
              "(60000, 28, 28)"
            ]
          },
          "execution_count": 16,
          "metadata": {},
          "output_type": "execute_result"
        }
      ],
      "source": [
        "x_train.shape"
      ]
    },
    {
      "cell_type": "markdown",
      "metadata": {
        "id": "Y6ah9NPQHGuE"
      },
      "source": [
        "### Define Model"
      ]
    },
    {
      "cell_type": "code",
      "execution_count": null,
      "metadata": {
        "colab": {
          "background_save": true
        },
        "id": "5X5kBRHiKztu"
      },
      "outputs": [],
      "source": [
        "#Creating a Sequential model\n",
        "model = keras.Sequential()\n",
        "#using flatten:\n",
        "model.add(keras.layers.Flatten(input_shape=[28, 28]))\n",
        "model.add(keras.layers.Dense(100, activation=\"relu\"))   #100 neurons in first layer\n",
        "model.add(keras.layers.Dense(75, activation=\"relu\"))\n",
        "model.add(keras.layers.Dense(10, activation=\"softmax\"))     #10 for output layer"
      ]
    },
    {
      "cell_type": "markdown",
      "metadata": {
        "id": "QVBOXuZ8kvQ0"
      },
      "source": [
        "In dense model you have to give 1D array or a vector for input layer"
      ]
    },
    {
      "cell_type": "code",
      "execution_count": null,
      "metadata": {
        "colab": {
          "background_save": true
        },
        "id": "Ld9lpr5mkrik"
      },
      "outputs": [],
      "source": [
        "#Another type for creating a sequential model\n",
        "# Define Sequential model with 3 layers\n",
        "model = keras.models.Sequential([\n",
        "        keras.layers.Flatten(input_shape=[28, 28]),\n",
        "        keras.layers.Dense(100, activation=\"relu\"),\n",
        "        keras.layers.Dense(75, activation=\"relu\"),\n",
        "        keras.layers.Dense(10, activation=\"softmax\"),\n",
        "])"
      ]
    },
    {
      "cell_type": "code",
      "execution_count": null,
      "metadata": {
        "colab": {
          "background_save": true,
          "base_uri": "https://localhost:8080/"
        },
        "id": "SN8Uk6fyugcc",
        "outputId": "85a86d5a-1a71-4578-88b5-c12251841e9f"
      },
      "outputs": [
        {
          "name": "stdout",
          "output_type": "stream",
          "text": [
            "Model: \"sequential_1\"\n",
            "_________________________________________________________________\n",
            " Layer (type)                Output Shape              Param #   \n",
            "=================================================================\n",
            " flatten_1 (Flatten)         (None, 784)               0         \n",
            "                                                                 \n",
            " dense_3 (Dense)             (None, 100)               78500     \n",
            "                                                                 \n",
            " dense_4 (Dense)             (None, 75)                7575      \n",
            "                                                                 \n",
            " dense_5 (Dense)             (None, 10)                760       \n",
            "                                                                 \n",
            "=================================================================\n",
            "Total params: 86835 (339.20 KB)\n",
            "Trainable params: 86835 (339.20 KB)\n",
            "Non-trainable params: 0 (0.00 Byte)\n",
            "_________________________________________________________________\n"
          ]
        }
      ],
      "source": [
        "model.summary()"
      ]
    },
    {
      "cell_type": "markdown",
      "metadata": {
        "id": "z0sIO5iVBTbD"
      },
      "source": [
        "Non-trainable params: 0  => means freezing params"
      ]
    },
    {
      "cell_type": "code",
      "execution_count": null,
      "metadata": {
        "colab": {
          "background_save": true,
          "base_uri": "https://localhost:8080/"
        },
        "id": "YIU3RIXYuzCS",
        "outputId": "e20cf0cc-d703-478e-e48f-f50256794664"
      },
      "outputs": [
        {
          "data": {
            "text/plain": [
              "784"
            ]
          },
          "execution_count": 20,
          "metadata": {},
          "output_type": "execute_result"
        }
      ],
      "source": [
        "28*28"
      ]
    },
    {
      "cell_type": "code",
      "execution_count": null,
      "metadata": {
        "colab": {
          "background_save": true,
          "base_uri": "https://localhost:8080/"
        },
        "id": "BsUBHMlxu6Q-",
        "outputId": "8e95326a-c560-4caf-83b5-817025fba602"
      },
      "outputs": [
        {
          "data": {
            "text/plain": [
              "[<keras.src.layers.reshaping.flatten.Flatten at 0x79c9a8567a00>,\n",
              " <keras.src.layers.core.dense.Dense at 0x79c9a8c55180>,\n",
              " <keras.src.layers.core.dense.Dense at 0x79c9a8c54e50>,\n",
              " <keras.src.layers.core.dense.Dense at 0x79c9a8c541c0>]"
            ]
          },
          "execution_count": 21,
          "metadata": {},
          "output_type": "execute_result"
        }
      ],
      "source": [
        "model.layers"
      ]
    },
    {
      "cell_type": "code",
      "execution_count": null,
      "metadata": {
        "colab": {
          "background_save": true,
          "base_uri": "https://localhost:8080/"
        },
        "id": "LA7P9DFnweCP",
        "outputId": "74792006-f99a-4f7f-fcfd-949911d38682"
      },
      "outputs": [
        {
          "data": {
            "text/plain": [
              "array([[ 0.061405  , -0.02612519, -0.04430921, ...,  0.0080329 ,\n",
              "         0.05123363,  0.07042168],\n",
              "       [ 0.01393101,  0.02360561, -0.0261018 , ...,  0.0209844 ,\n",
              "        -0.04493464, -0.02859251],\n",
              "       [-0.02940695, -0.005846  , -0.06479924, ...,  0.07838877,\n",
              "        -0.00041354,  0.05617259],\n",
              "       ...,\n",
              "       [-0.0323466 ,  0.01826159,  0.07156435, ..., -0.06444751,\n",
              "         0.04315042, -0.0360916 ],\n",
              "       [-0.07067113,  0.0572357 ,  0.01109111, ...,  0.02105339,\n",
              "         0.00599512, -0.04878633],\n",
              "       [ 0.00177206, -0.03157018,  0.080148  , ..., -0.05632384,\n",
              "         0.0332097 ,  0.07721882]], dtype=float32)"
            ]
          },
          "execution_count": 22,
          "metadata": {},
          "output_type": "execute_result"
        }
      ],
      "source": [
        "weights, bias = model.layers[1].get_weights()\n",
        "weights"
      ]
    },
    {
      "cell_type": "code",
      "execution_count": null,
      "metadata": {
        "colab": {
          "background_save": true,
          "base_uri": "https://localhost:8080/"
        },
        "id": "XgTbxoCXGmqM",
        "outputId": "138f23a2-3f8a-4263-b035-dcc9397107c0"
      },
      "outputs": [
        {
          "data": {
            "text/plain": [
              "array([[ 0.061405  , -0.02612519, -0.04430921, ...,  0.0080329 ,\n",
              "         0.05123363,  0.07042168],\n",
              "       [ 0.01393101,  0.02360561, -0.0261018 , ...,  0.0209844 ,\n",
              "        -0.04493464, -0.02859251],\n",
              "       [-0.02940695, -0.005846  , -0.06479924, ...,  0.07838877,\n",
              "        -0.00041354,  0.05617259],\n",
              "       ...,\n",
              "       [-0.0323466 ,  0.01826159,  0.07156435, ..., -0.06444751,\n",
              "         0.04315042, -0.0360916 ],\n",
              "       [-0.07067113,  0.0572357 ,  0.01109111, ...,  0.02105339,\n",
              "         0.00599512, -0.04878633],\n",
              "       [ 0.00177206, -0.03157018,  0.080148  , ..., -0.05632384,\n",
              "         0.0332097 ,  0.07721882]], dtype=float32)"
            ]
          },
          "execution_count": 23,
          "metadata": {},
          "output_type": "execute_result"
        }
      ],
      "source": [
        "weights"
      ]
    },
    {
      "cell_type": "code",
      "execution_count": null,
      "metadata": {
        "colab": {
          "background_save": true,
          "base_uri": "https://localhost:8080/"
        },
        "id": "_UX9Kp_vwuPL",
        "outputId": "ca055e6a-cae9-462d-9039-b34d8b5d2d11"
      },
      "outputs": [
        {
          "data": {
            "text/plain": [
              "(784, 100)"
            ]
          },
          "execution_count": 24,
          "metadata": {},
          "output_type": "execute_result"
        }
      ],
      "source": [
        "weights.shape"
      ]
    },
    {
      "cell_type": "code",
      "execution_count": null,
      "metadata": {
        "colab": {
          "background_save": true,
          "base_uri": "https://localhost:8080/"
        },
        "id": "iJgTyF4AxhTZ",
        "outputId": "e1f13e12-3dee-4adf-cba4-57800195fcef"
      },
      "outputs": [
        {
          "data": {
            "text/plain": [
              "(100,)"
            ]
          },
          "execution_count": 25,
          "metadata": {},
          "output_type": "execute_result"
        }
      ],
      "source": [
        "bias.shape"
      ]
    },
    {
      "cell_type": "code",
      "execution_count": null,
      "metadata": {
        "colab": {
          "background_save": true,
          "base_uri": "https://localhost:8080/"
        },
        "id": "4y3mmFksxjxG",
        "outputId": "c18943ee-c6f7-4491-dbd8-0a44558aafe6"
      },
      "outputs": [
        {
          "data": {
            "text/plain": [
              "array([0., 0., 0., 0., 0., 0., 0., 0., 0., 0., 0., 0., 0., 0., 0., 0., 0.,\n",
              "       0., 0., 0., 0., 0., 0., 0., 0., 0., 0., 0., 0., 0., 0., 0., 0., 0.,\n",
              "       0., 0., 0., 0., 0., 0., 0., 0., 0., 0., 0., 0., 0., 0., 0., 0., 0.,\n",
              "       0., 0., 0., 0., 0., 0., 0., 0., 0., 0., 0., 0., 0., 0., 0., 0., 0.,\n",
              "       0., 0., 0., 0., 0., 0., 0., 0., 0., 0., 0., 0., 0., 0., 0., 0., 0.,\n",
              "       0., 0., 0., 0., 0., 0., 0., 0., 0., 0., 0., 0., 0., 0., 0.],\n",
              "      dtype=float32)"
            ]
          },
          "execution_count": 26,
          "metadata": {},
          "output_type": "execute_result"
        }
      ],
      "source": [
        "bias"
      ]
    },
    {
      "cell_type": "markdown",
      "metadata": {
        "id": "SkPPweYlHVCt"
      },
      "source": [
        "### Compile Model"
      ]
    },
    {
      "cell_type": "markdown",
      "metadata": {
        "id": "1XnMzCJEHuxU"
      },
      "source": [
        "https://keras.io/api/models/model_training_apis/"
      ]
    },
    {
      "cell_type": "markdown",
      "metadata": {
        "id": "4MVxVsyMLevN"
      },
      "source": [
        "Because we have Multiclass classification:"
      ]
    },
    {
      "cell_type": "code",
      "execution_count": null,
      "metadata": {
        "colab": {
          "background_save": true
        },
        "id": "bstQWSstx34H"
      },
      "outputs": [],
      "source": [
        "model.compile(optimizer=\"sgd\", loss=\"sparse_categorical_crossentropy\", metrics=[\"accuracy\"])"
      ]
    },
    {
      "cell_type": "markdown",
      "metadata": {
        "id": "uGJmfs30MCwE"
      },
      "source": [
        "https://keras.io/api/metrics/"
      ]
    },
    {
      "cell_type": "markdown",
      "metadata": {
        "id": "KUUbueCiMZfT"
      },
      "source": [
        "### Fit Model:"
      ]
    },
    {
      "cell_type": "markdown",
      "metadata": {
        "id": "0hGq8jbjVTl8"
      },
      "source": [
        "**Why do we fit the model?**  \n",
        "We fit the model to enable it to learn from the given data and improve its prediction accuracy. Here’s a detailed explanation of why we fit the model and what the process involves:\n",
        "\n",
        "Why do we fit the model?  \n",
        "\n",
        "\n",
        "1.   Learning Patterns from Data:\n",
        "\n",
        " *   When we fit a model, it tries to learn the relationships and patterns in the\n",
        "input data (features) and output data (labels). This process involves adjusting the model's internal weights and biases so that it can make accurate predictions based on new data.\n",
        "\n",
        "2.   Improving Prediction Accuracy:\n",
        "\n",
        " *   The goal of fitting the model is to minimize prediction errors. This is achieved by using optimization algorithms like gradient descent, which aim to reduce the difference between the model’s predictions and the actual values.\n",
        "\n",
        "3.   Generalization:\n",
        "\n",
        " *   Fitting the model helps it to generalize well not only on the training data but also on new, unseen data. This means learning the general features of the data that help the model perform well on diverse datasets.\n",
        "\n",
        "\n",
        "**Steps in Fitting the Model**  \n",
        "1. Preparing the Data:\n",
        "\n",
        " - Data is split into training and evaluation (validation/test) sets.\n",
        " - Training data is used for learning, and evaluation data is used for assessing the model's performance.\n",
        "\n",
        "2. Defining the Model:\n",
        "\n",
        " - The model is defined using various layers and architectures. For example, in neural networks, layers such as Dense, Convolutional, etc., are defined.\n",
        "3. Compiling the Model:\n",
        "\n",
        " - The model is compiled using a loss function and an optimizer.\n",
        "\n",
        " - Example: model.fit(x_train, y_train, epochs=10, validation_data=(x_val, y_val))\n",
        "  - In this step, the model adjusts its weights to best match the data.\n"
      ]
    },
    {
      "cell_type": "markdown",
      "metadata": {
        "id": "9fXaA1PvMn7k"
      },
      "source": [
        "https://keras.io/api/models/model_training_apis/"
      ]
    },
    {
      "cell_type": "code",
      "execution_count": null,
      "metadata": {
        "colab": {
          "background_save": true,
          "base_uri": "https://localhost:8080/"
        },
        "id": "85sJrhiDMJx1",
        "outputId": "0dda7d2d-8465-4c9e-eba4-039c007f18cb"
      },
      "outputs": [
        {
          "name": "stdout",
          "output_type": "stream",
          "text": [
            "Epoch 1/50\n",
            "1594/1594 [==============================] - 7s 4ms/step - loss: 0.8107 - accuracy: 0.7299 - val_loss: 0.5825 - val_accuracy: 0.7936\n",
            "Epoch 2/50\n",
            "1594/1594 [==============================] - 5s 3ms/step - loss: 0.5207 - accuracy: 0.8195 - val_loss: 0.4898 - val_accuracy: 0.8306\n",
            "Epoch 3/50\n",
            "1594/1594 [==============================] - 5s 3ms/step - loss: 0.4685 - accuracy: 0.8366 - val_loss: 0.4735 - val_accuracy: 0.8366\n",
            "Epoch 4/50\n",
            "1594/1594 [==============================] - 6s 4ms/step - loss: 0.4399 - accuracy: 0.8466 - val_loss: 0.4290 - val_accuracy: 0.8506\n",
            "Epoch 5/50\n",
            "1594/1594 [==============================] - 5s 3ms/step - loss: 0.4197 - accuracy: 0.8528 - val_loss: 0.4181 - val_accuracy: 0.8581\n",
            "Epoch 6/50\n",
            "1594/1594 [==============================] - 6s 4ms/step - loss: 0.4027 - accuracy: 0.8591 - val_loss: 0.4085 - val_accuracy: 0.8579\n",
            "Epoch 7/50\n",
            "1594/1594 [==============================] - 5s 3ms/step - loss: 0.3890 - accuracy: 0.8629 - val_loss: 0.3975 - val_accuracy: 0.8620\n",
            "Epoch 8/50\n",
            "1594/1594 [==============================] - 6s 4ms/step - loss: 0.3781 - accuracy: 0.8663 - val_loss: 0.3863 - val_accuracy: 0.8656\n",
            "Epoch 9/50\n",
            "1594/1594 [==============================] - 6s 4ms/step - loss: 0.3665 - accuracy: 0.8698 - val_loss: 0.3926 - val_accuracy: 0.8601\n",
            "Epoch 10/50\n",
            "1594/1594 [==============================] - 5s 3ms/step - loss: 0.3580 - accuracy: 0.8724 - val_loss: 0.3745 - val_accuracy: 0.8712\n",
            "Epoch 11/50\n",
            "1594/1594 [==============================] - 6s 4ms/step - loss: 0.3500 - accuracy: 0.8748 - val_loss: 0.3895 - val_accuracy: 0.8641\n",
            "Epoch 12/50\n",
            "1594/1594 [==============================] - 5s 3ms/step - loss: 0.3410 - accuracy: 0.8790 - val_loss: 0.3566 - val_accuracy: 0.8734\n",
            "Epoch 13/50\n",
            "1594/1594 [==============================] - 6s 4ms/step - loss: 0.3340 - accuracy: 0.8812 - val_loss: 0.3709 - val_accuracy: 0.8671\n",
            "Epoch 14/50\n",
            "1594/1594 [==============================] - 5s 3ms/step - loss: 0.3279 - accuracy: 0.8832 - val_loss: 0.3596 - val_accuracy: 0.8744\n",
            "Epoch 15/50\n",
            "1594/1594 [==============================] - 5s 3ms/step - loss: 0.3214 - accuracy: 0.8857 - val_loss: 0.3494 - val_accuracy: 0.8763\n",
            "Epoch 16/50\n",
            "1594/1594 [==============================] - 6s 4ms/step - loss: 0.3162 - accuracy: 0.8871 - val_loss: 0.3446 - val_accuracy: 0.8786\n",
            "Epoch 17/50\n",
            "1594/1594 [==============================] - 5s 3ms/step - loss: 0.3094 - accuracy: 0.8889 - val_loss: 0.3529 - val_accuracy: 0.8757\n",
            "Epoch 18/50\n",
            "1594/1594 [==============================] - 6s 4ms/step - loss: 0.3050 - accuracy: 0.8906 - val_loss: 0.3565 - val_accuracy: 0.8693\n",
            "Epoch 19/50\n",
            "1594/1594 [==============================] - 5s 3ms/step - loss: 0.2997 - accuracy: 0.8916 - val_loss: 0.3474 - val_accuracy: 0.8786\n",
            "Epoch 20/50\n",
            "1594/1594 [==============================] - 6s 4ms/step - loss: 0.2941 - accuracy: 0.8941 - val_loss: 0.3633 - val_accuracy: 0.8693\n",
            "Epoch 21/50\n",
            "1594/1594 [==============================] - 5s 3ms/step - loss: 0.2902 - accuracy: 0.8953 - val_loss: 0.3374 - val_accuracy: 0.8810\n",
            "Epoch 22/50\n",
            "1594/1594 [==============================] - 5s 3ms/step - loss: 0.2848 - accuracy: 0.8971 - val_loss: 0.3392 - val_accuracy: 0.8810\n",
            "Epoch 23/50\n",
            "1594/1594 [==============================] - 6s 4ms/step - loss: 0.2807 - accuracy: 0.8981 - val_loss: 0.3421 - val_accuracy: 0.8799\n",
            "Epoch 24/50\n",
            "1594/1594 [==============================] - 5s 3ms/step - loss: 0.2774 - accuracy: 0.8995 - val_loss: 0.3383 - val_accuracy: 0.8797\n",
            "Epoch 25/50\n",
            "1594/1594 [==============================] - 7s 4ms/step - loss: 0.2727 - accuracy: 0.9020 - val_loss: 0.3274 - val_accuracy: 0.8843\n",
            "Epoch 26/50\n",
            "1594/1594 [==============================] - 5s 3ms/step - loss: 0.2695 - accuracy: 0.9023 - val_loss: 0.3340 - val_accuracy: 0.8832\n",
            "Epoch 27/50\n",
            "1594/1594 [==============================] - 7s 4ms/step - loss: 0.2651 - accuracy: 0.9045 - val_loss: 0.3379 - val_accuracy: 0.8797\n",
            "Epoch 28/50\n",
            "1594/1594 [==============================] - 7s 5ms/step - loss: 0.2624 - accuracy: 0.9051 - val_loss: 0.3278 - val_accuracy: 0.8839\n",
            "Epoch 29/50\n",
            "1594/1594 [==============================] - 6s 4ms/step - loss: 0.2589 - accuracy: 0.9061 - val_loss: 0.3285 - val_accuracy: 0.8841\n",
            "Epoch 30/50\n",
            "1594/1594 [==============================] - 5s 3ms/step - loss: 0.2547 - accuracy: 0.9081 - val_loss: 0.3336 - val_accuracy: 0.8822\n",
            "Epoch 31/50\n",
            "1594/1594 [==============================] - 5s 3ms/step - loss: 0.2525 - accuracy: 0.9087 - val_loss: 0.3307 - val_accuracy: 0.8807\n",
            "Epoch 32/50\n",
            "1594/1594 [==============================] - 7s 4ms/step - loss: 0.2496 - accuracy: 0.9106 - val_loss: 0.3248 - val_accuracy: 0.8854\n",
            "Epoch 33/50\n",
            "1594/1594 [==============================] - 5s 3ms/step - loss: 0.2458 - accuracy: 0.9106 - val_loss: 0.3197 - val_accuracy: 0.8882\n",
            "Epoch 34/50\n",
            "1594/1594 [==============================] - 7s 4ms/step - loss: 0.2429 - accuracy: 0.9128 - val_loss: 0.3188 - val_accuracy: 0.8872\n",
            "Epoch 35/50\n",
            "1594/1594 [==============================] - 5s 3ms/step - loss: 0.2396 - accuracy: 0.9132 - val_loss: 0.3291 - val_accuracy: 0.8861\n",
            "Epoch 36/50\n",
            "1594/1594 [==============================] - 6s 4ms/step - loss: 0.2374 - accuracy: 0.9142 - val_loss: 0.3203 - val_accuracy: 0.8862\n",
            "Epoch 37/50\n",
            "1594/1594 [==============================] - 6s 4ms/step - loss: 0.2336 - accuracy: 0.9157 - val_loss: 0.3282 - val_accuracy: 0.8838\n",
            "Epoch 38/50\n",
            "1594/1594 [==============================] - 5s 3ms/step - loss: 0.2308 - accuracy: 0.9157 - val_loss: 0.3184 - val_accuracy: 0.8877\n",
            "Epoch 39/50\n",
            "1594/1594 [==============================] - 6s 4ms/step - loss: 0.2290 - accuracy: 0.9180 - val_loss: 0.3325 - val_accuracy: 0.8811\n",
            "Epoch 40/50\n",
            "1594/1594 [==============================] - 5s 3ms/step - loss: 0.2256 - accuracy: 0.9192 - val_loss: 0.3174 - val_accuracy: 0.8891\n",
            "Epoch 41/50\n",
            "1594/1594 [==============================] - 7s 4ms/step - loss: 0.2228 - accuracy: 0.9191 - val_loss: 0.3171 - val_accuracy: 0.8913\n",
            "Epoch 42/50\n",
            "1594/1594 [==============================] - 5s 3ms/step - loss: 0.2199 - accuracy: 0.9207 - val_loss: 0.3273 - val_accuracy: 0.8830\n",
            "Epoch 43/50\n",
            "1594/1594 [==============================] - 5s 3ms/step - loss: 0.2185 - accuracy: 0.9213 - val_loss: 0.3166 - val_accuracy: 0.8878\n",
            "Epoch 44/50\n",
            "1594/1594 [==============================] - 6s 4ms/step - loss: 0.2161 - accuracy: 0.9215 - val_loss: 0.3190 - val_accuracy: 0.8894\n",
            "Epoch 45/50\n",
            "1594/1594 [==============================] - 5s 3ms/step - loss: 0.2131 - accuracy: 0.9239 - val_loss: 0.3234 - val_accuracy: 0.8860\n",
            "Epoch 46/50\n",
            "1594/1594 [==============================] - 7s 4ms/step - loss: 0.2102 - accuracy: 0.9245 - val_loss: 0.3204 - val_accuracy: 0.8900\n",
            "Epoch 47/50\n",
            "1594/1594 [==============================] - 5s 3ms/step - loss: 0.2088 - accuracy: 0.9241 - val_loss: 0.3223 - val_accuracy: 0.8876\n",
            "Epoch 48/50\n",
            "1594/1594 [==============================] - 6s 4ms/step - loss: 0.2069 - accuracy: 0.9249 - val_loss: 0.3230 - val_accuracy: 0.8883\n",
            "Epoch 49/50\n",
            "1594/1594 [==============================] - 6s 4ms/step - loss: 0.2042 - accuracy: 0.9260 - val_loss: 0.3375 - val_accuracy: 0.8850\n",
            "Epoch 50/50\n",
            "1594/1594 [==============================] - 5s 3ms/step - loss: 0.2020 - accuracy: 0.9280 - val_loss: 0.3300 - val_accuracy: 0.8860\n"
          ]
        }
      ],
      "source": [
        "history = model.fit(x_train, y_train, epochs=50, validation_split=0.15)"
      ]
    },
    {
      "cell_type": "markdown",
      "metadata": {
        "id": "Wa0VZJUP0RlP"
      },
      "source": [
        "**What is the difference between validation and test data?**\n",
        "In machine learning, data is divided into different sets to train, optimize, and evaluate the model. These sets usually include training data, validation data, and test data. Here is the difference between these sets:\n",
        "\n",
        "**Training Data**\n",
        "\n",
        " - Purpose: Used to train the model.\n",
        " - Role: The model uses this data to learn patterns and internal parameters. This data helps the model understand the relationship between features and labels.\n",
        " - Process: The model optimizes its weights and biases using optimization algorithms on this data.\n",
        "\n",
        "**Validation Data**\n",
        " - Purpose: Used to tune hyperparameters and perform interim evaluations of the model.\n",
        " - Role: This data helps the model during the training process to find the best settings for hyperparameters and prevent overfitting.\n",
        " - Process: Validation data is used to evaluate the model temporarily during training. The results from the validation data help in tuning parameters such as learning rate, number of layers, number of neurons, etc.\n",
        " - Example: The model might be evaluated on validation data after each epoch to see if there is any improvement.\n",
        "\n",
        "**Test Data**\n",
        " - Purpose: Used for the final evaluation of the model.\n",
        " - Role: Test data is used only once, after the model has been fully trained, to assess the model's final performance. This data helps us understand how well the model can perform on new, unseen data.\n",
        " - Process: After training and tuning hyperparameters, the model is evaluated on test data to determine its final accuracy and performance. This evaluation shows how well the model can generalize to real-world data.\n",
        "\n",
        "\n",
        "\n",
        " | Feature         | Training Data                        | Validation Data                      | Test Data                         |\n",
        "|-----------------|--------------------------------------|--------------------------------------|-----------------------------------|\n",
        "| **Purpose**     | To train the model                   | To tune hyperparameters and prevent overfitting | To evaluate the final model performance |\n",
        "| **Role**        | Learning patterns and parameters     | Interim evaluation and improvement   | Final assessment of performance   |\n",
        "| **Usage**       | During training                      | During training                      | After training                    |\n",
        "| **Evaluation**  | Optimizing internal parameters       | Optimizing hyperparameters           | Final performance evaluation      |\n"
      ]
    },
    {
      "cell_type": "code",
      "execution_count": null,
      "metadata": {
        "colab": {
          "background_save": true,
          "base_uri": "https://localhost:8080/"
        },
        "id": "jIUMhpKgp44e",
        "outputId": "208a5013-bdeb-4b55-8816-cb022bea9bb8"
      },
      "outputs": [
        {
          "data": {
            "text/plain": [
              "[0,\n",
              " 1,\n",
              " 2,\n",
              " 3,\n",
              " 4,\n",
              " 5,\n",
              " 6,\n",
              " 7,\n",
              " 8,\n",
              " 9,\n",
              " 10,\n",
              " 11,\n",
              " 12,\n",
              " 13,\n",
              " 14,\n",
              " 15,\n",
              " 16,\n",
              " 17,\n",
              " 18,\n",
              " 19,\n",
              " 20,\n",
              " 21,\n",
              " 22,\n",
              " 23,\n",
              " 24,\n",
              " 25,\n",
              " 26,\n",
              " 27,\n",
              " 28,\n",
              " 29,\n",
              " 30,\n",
              " 31,\n",
              " 32,\n",
              " 33,\n",
              " 34,\n",
              " 35,\n",
              " 36,\n",
              " 37,\n",
              " 38,\n",
              " 39,\n",
              " 40,\n",
              " 41,\n",
              " 42,\n",
              " 43,\n",
              " 44,\n",
              " 45,\n",
              " 46,\n",
              " 47,\n",
              " 48,\n",
              " 49]"
            ]
          },
          "execution_count": 147,
          "metadata": {},
          "output_type": "execute_result"
        }
      ],
      "source": [
        "history.epoch"
      ]
    },
    {
      "cell_type": "code",
      "execution_count": null,
      "metadata": {
        "colab": {
          "background_save": true,
          "base_uri": "https://localhost:8080/"
        },
        "id": "Usd_FNvnqQoN",
        "outputId": "9ec61c28-2ee7-46ab-ed82-4e777c649ea3"
      },
      "outputs": [
        {
          "name": "stdout",
          "output_type": "stream",
          "text": [
            "{'loss': [0.810712993144989, 0.5207434892654419, 0.4684971570968628, 0.4399036765098572, 0.4197089374065399, 0.4027290940284729, 0.3889895975589752, 0.378101646900177, 0.3664982318878174, 0.35799896717071533, 0.34998181462287903, 0.3410482108592987, 0.3340473473072052, 0.32793697714805603, 0.32136574387550354, 0.3161942660808563, 0.30937233567237854, 0.30502280592918396, 0.29970666766166687, 0.29409676790237427, 0.2902267277240753, 0.28480640053749084, 0.2807037830352783, 0.27743127942085266, 0.2727483808994293, 0.26948896050453186, 0.2651372253894806, 0.26236164569854736, 0.2589152455329895, 0.2546577751636505, 0.25246429443359375, 0.2496182918548584, 0.24577127397060394, 0.24289661645889282, 0.23959596455097198, 0.2373855859041214, 0.23358173668384552, 0.23084786534309387, 0.22903449833393097, 0.22564288973808289, 0.22278308868408203, 0.21990349888801575, 0.2184954285621643, 0.21605607867240906, 0.213130921125412, 0.2101939469575882, 0.20877711474895477, 0.20689330995082855, 0.20415012538433075, 0.20199833810329437], 'accuracy': [0.7298627495765686, 0.8194509744644165, 0.8366274237632751, 0.8466470837593079, 0.8528039455413818, 0.8591176271438599, 0.8628823757171631, 0.8662941455841064, 0.8697646856307983, 0.8723921775817871, 0.8748431205749512, 0.8790392279624939, 0.8812156915664673, 0.8831568360328674, 0.8856862783432007, 0.8871176242828369, 0.8889215588569641, 0.8906078338623047, 0.8915882110595703, 0.8940588235855103, 0.895254909992218, 0.8970784544944763, 0.8980980515480042, 0.8995490074157715, 0.9020196199417114, 0.9022548794746399, 0.9045293927192688, 0.9050588011741638, 0.9060980677604675, 0.9081372618675232, 0.9087451100349426, 0.910588264465332, 0.9105686545372009, 0.9128039479255676, 0.9131960868835449, 0.9141568541526794, 0.9157450795173645, 0.9156666398048401, 0.9179999828338623, 0.9191568493843079, 0.9191372394561768, 0.9206862449645996, 0.9212744832038879, 0.9214901924133301, 0.9238627552986145, 0.924490213394165, 0.924098014831543, 0.9249411821365356, 0.9259803891181946, 0.9280195832252502], 'val_loss': [0.5824858546257019, 0.4898359775543213, 0.4734588861465454, 0.4290163516998291, 0.41806963086128235, 0.4084502160549164, 0.39752936363220215, 0.38628411293029785, 0.3925591707229614, 0.37451082468032837, 0.3894626498222351, 0.35661301016807556, 0.37093961238861084, 0.3595961332321167, 0.3494303822517395, 0.34460344910621643, 0.35291871428489685, 0.35651394724845886, 0.34741902351379395, 0.3633027970790863, 0.3373553454875946, 0.33922478556632996, 0.34214064478874207, 0.3382873833179474, 0.32735475897789, 0.33403196930885315, 0.33786457777023315, 0.3277668058872223, 0.32845771312713623, 0.33356595039367676, 0.3306988775730133, 0.3248339891433716, 0.3196810185909271, 0.31878337264060974, 0.3291369676589966, 0.3203435242176056, 0.32816556096076965, 0.3184051513671875, 0.33253565430641174, 0.3173607885837555, 0.317110151052475, 0.3273147642612457, 0.31655848026275635, 0.31899353861808777, 0.3233602046966553, 0.32035672664642334, 0.3223002254962921, 0.32297149300575256, 0.33753588795661926, 0.32996195554733276], 'val_accuracy': [0.7935555577278137, 0.8305555582046509, 0.836555540561676, 0.8505555391311646, 0.8581110835075378, 0.8578888773918152, 0.8619999885559082, 0.8655555844306946, 0.8601111173629761, 0.871222198009491, 0.8641111254692078, 0.8734444379806519, 0.867111086845398, 0.8744444251060486, 0.8763333559036255, 0.8785555362701416, 0.8756666779518127, 0.8693333268165588, 0.8785555362701416, 0.8693333268165588, 0.8809999823570251, 0.8809999823570251, 0.8798888921737671, 0.8796666860580444, 0.8843333125114441, 0.883222222328186, 0.8796666860580444, 0.8838889002799988, 0.8841111063957214, 0.8822222352027893, 0.8806666731834412, 0.8854444622993469, 0.8882222175598145, 0.8872222304344177, 0.8861111402511597, 0.886222243309021, 0.8837777972221375, 0.887666642665863, 0.8811110854148865, 0.8891111016273499, 0.8913333415985107, 0.8830000162124634, 0.8877778053283691, 0.8894444704055786, 0.8859999775886536, 0.8899999856948853, 0.8875555396080017, 0.8883333206176758, 0.8849999904632568, 0.8859999775886536]}\n"
          ]
        }
      ],
      "source": [
        "print(history.history)\n",
        "#or history.param"
      ]
    },
    {
      "cell_type": "code",
      "execution_count": null,
      "metadata": {
        "colab": {
          "background_save": true,
          "base_uri": "https://localhost:8080/",
          "height": 487
        },
        "id": "X1ob7SebqTe-",
        "outputId": "34a65ce6-3aee-4bb7-f816-df906c04b241"
      },
      "outputs": [
        {
          "data": {
            "image/png": "[encoded data removed]",
            "text/plain": [
              "<Figure size 1200x500 with 1 Axes>"
            ]
          },
          "metadata": {},
          "output_type": "display_data"
        }
      ],
      "source": [
        "fig, ax = plt.subplots(figsize=(12,5))\n",
        "ax.plot(history.history[\"loss\"], label=\"Training Loss\")\n",
        "ax.plot(history.history[\"accuracy\"], label=\"Training Accuracy\")\n",
        "ax.plot(history.history[\"val_loss\"], label=\"Validation Loss\")\n",
        "ax.plot(history.history[\"val_accuracy\"], label=\"Validation Accuracy\")\n",
        "ax.set_xlabel(\"Epochs\")\n",
        "ax.set_ylabel(\"Value\")\n",
        "ax.set_title(\"Training and Validation Loss and Accuracy\")\n",
        "ax.legend()\n",
        "plt.show()"
      ]
    },
    {
      "cell_type": "markdown",
      "metadata": {
        "id": "48X_UN4HePWC"
      },
      "source": [
        "In machine learning, model evaluation involves measuring the predictive accuracy of a model. Predictive accuracy refers to how well a model can make accurate predictions on unseen data. The goal is to find a model that generalizes well to new, unseen examples rather than just memorizing the training data.  \n",
        "**What are the model evaluation methods?**  \n",
        "Two of the most important categories of evaluation methods are classification and regression model performance metrics. Understanding how these metrics are calculated will enable you to choose what is most important within a given model, and provide quantitative measures of performance within that metric.\n",
        "\n",
        "Classification metrics\n",
        "Classification metrics are generally used for discrete values a model might produce when it has finished classifying all the given data. In order to clearly display the raw data needed to calculate desired classification metrics, a confusion matrix for a model can be created.  \n",
        "These are some of the most commonly useful classification metrics that can be calculated from the data contained in a confusion matrix.\n",
        "\n",
        "- Accuracy : percentage of the total variables that were correctly classified. Use the formula Accuracy = (TP+TN) / (TP+TN+FP+FN)\n",
        "- False positive rate : how often the model predicts a positive for a value that is actually negative. Use the formula False Positive Rate = FP / (FP+TN)\n",
        "- Precision : percentage of positive cases that were true positives as opposed to false positives. Use the formula Precision = TP / (TP+FP)\n",
        "- Recall : percentage of actual positive cases that were predicted as positives, as opposed to those classified as false negatives. Use the formula Recall = TP/(TP+FN)\n",
        "- Logarithmic loss : measure of how many total errors a model has. The closer to zero, the more correct predictions a model makes in classifications.\n",
        "Area under curve - method of visualizing true and false positive rates against each other.\n",
        "Regression Metrics\n",
        "Regression metrics are techniques generally better suited to be applied to continuous output of a machine learning model, as opposed to classification metrics which tend to work better to analyze discrete final results.\n",
        "\n",
        "Some of the most useful regression metrics include:\n",
        "\n",
        "- Coefficient of determination (or R-squared) : measures variance of a model compared to the actual data.\n",
        "- Mean squared error : measures the amount of average divergence of the model from the observed data.\n",
        "- Mean absolute error : measures the vertical and horizontal distance between data points and a linear regression line to illustrate how much a model deviates from observed data.\n",
        "- Mean absolute percentage error : shows mean absolute error as a percentage.\n",
        "- Weighted mean absolute percentage error : uses actual values (rather than absolute values) to measure percentage errors."
      ]
    },
    {
      "cell_type": "markdown",
      "metadata": {
        "id": "D9pFtdR1mDcK"
      },
      "source": [
        "see evaluate method in https://keras.io/api/models/model_training_apis/"
      ]
    },
    {
      "cell_type": "code",
      "execution_count": null,
      "metadata": {
        "colab": {
          "background_save": true,
          "base_uri": "https://localhost:8080/"
        },
        "id": "PdH5lRVWBiok",
        "outputId": "e6838fd1-2f3e-405b-f2f1-287f0a6b61f0"
      },
      "outputs": [
        {
          "data": {
            "text/plain": [
              "[0.3534231185913086, 0.8762999773025513]"
            ]
          },
          "execution_count": 150,
          "metadata": {},
          "output_type": "execute_result"
        }
      ],
      "source": [
        "model.evaluate(x_test, y_test, verbose=0)"
      ]
    },
    {
      "cell_type": "markdown",
      "metadata": {
        "id": "uKkSButFme1K"
      },
      "source": [
        "- 0.343195378780365 is always **loss**  \n",
        "- 0.881600022315979 is our **metrics** (accuracy on test data)\n"
      ]
    },
    {
      "cell_type": "markdown",
      "metadata": {
        "id": "nMDfqjgivMtf"
      },
      "source": [
        "`By setting verbose 0, 1 or 2 you just say how do you want to 'see' the training progress for each epoch.\n",
        "\n",
        "verbose=0 will show you nothing (silent)\n",
        "\n",
        "verbose=1 will show you an animated progress bar\n",
        "\n",
        "verbose=2 will just mention the number of epoch'\n",
        "\n",
        "Verbose is a general programming term for produce lots of logging output. You can think of it as asking the program to \"tell me everything about what you are doing all the time\"."
      ]
    },
    {
      "cell_type": "code",
      "execution_count": null,
      "metadata": {
        "colab": {
          "background_save": true,
          "base_uri": "https://localhost:8080/"
        },
        "id": "PO0Pww2QnRN5",
        "outputId": "474df7e4-7b1c-46f4-bda7-52badc65f540"
      },
      "outputs": [
        {
          "data": {
            "text/plain": [
              "(2, 28, 28)"
            ]
          },
          "execution_count": 151,
          "metadata": {},
          "output_type": "execute_result"
        }
      ],
      "source": [
        "x3 = x_test[1:3,:,:]\n",
        "x3.shape"
      ]
    },
    {
      "cell_type": "code",
      "execution_count": null,
      "metadata": {
        "colab": {
          "background_save": true,
          "base_uri": "https://localhost:8080/",
          "height": 447
        },
        "id": "ZgCzbZpMtY_D",
        "outputId": "b284a869-b988-4fdd-81b2-9e5fc3fd120c"
      },
      "outputs": [
        {
          "data": {
            "text/plain": [
              "<matplotlib.image.AxesImage at 0x79c98f505060>"
            ]
          },
          "execution_count": 152,
          "metadata": {},
          "output_type": "execute_result"
        },
        {
          "data": {
            "image/png": "[encoded data removed]",
            "text/plain": [
              "<Figure size 640x480 with 1 Axes>"
            ]
          },
          "metadata": {},
          "output_type": "display_data"
        }
      ],
      "source": [
        "plt.imshow(x3[0], cmap=\"gray\")"
      ]
    },
    {
      "cell_type": "code",
      "execution_count": null,
      "metadata": {
        "colab": {
          "background_save": true,
          "base_uri": "https://localhost:8080/"
        },
        "id": "IwYGeD6PtpsJ",
        "outputId": "778b88dd-54b9-4d20-c794-3c84d964fa4b"
      },
      "outputs": [
        {
          "name": "stdout",
          "output_type": "stream",
          "text": [
            "1/1 [==============================] - 0s 62ms/step\n"
          ]
        },
        {
          "data": {
            "text/plain": [
              "array([[2.4054924e-04, 1.6401513e-08, 9.8660892e-01, 1.0311264e-09,\n",
              "        8.2906354e-03, 3.9177234e-11, 4.8599262e-03, 1.7289811e-12,\n",
              "        3.6016441e-08, 1.7191199e-15],\n",
              "       [1.3662311e-06, 9.9999857e-01, 1.2992208e-08, 4.1319783e-09,\n",
              "        3.0006273e-09, 2.9607811e-12, 1.4439511e-10, 1.0906762e-12,\n",
              "        1.9321858e-11, 1.1169577e-13]], dtype=float32)"
            ]
          },
          "execution_count": 153,
          "metadata": {},
          "output_type": "execute_result"
        }
      ],
      "source": [
        "model.predict(x3)"
      ]
    },
    {
      "cell_type": "code",
      "execution_count": null,
      "metadata": {
        "colab": {
          "background_save": true,
          "base_uri": "https://localhost:8080/"
        },
        "id": "yq-4FQCoyhNS",
        "outputId": "451423b9-7855-4eb5-d1c5-97b6624a9a3e"
      },
      "outputs": [
        {
          "name": "stdout",
          "output_type": "stream",
          "text": [
            "1/1 [==============================] - 0s 24ms/step\n",
            "Sum of each row in predictions: [1.         0.99999994]\n"
          ]
        }
      ],
      "source": [
        "predictions = model.predict(x3)\n",
        "\n",
        "# Calculate the sum of each row in the predictions\n",
        "row_sums = np.sum(predictions, axis=1)\n",
        "\n",
        "# Print the sum of each row\n",
        "print(\"Sum of each row in predictions:\", row_sums)"
      ]
    },
    {
      "cell_type": "code",
      "execution_count": null,
      "metadata": {
        "colab": {
          "background_save": true,
          "base_uri": "https://localhost:8080/"
        },
        "id": "FG3QBez-uBhR",
        "outputId": "3d71c717-063e-4db9-9377-c6606ebd7846"
      },
      "outputs": [
        {
          "name": "stdout",
          "output_type": "stream",
          "text": [
            "1/1 [==============================] - 0s 23ms/step\n"
          ]
        },
        {
          "data": {
            "text/plain": [
              "(2, 10)"
            ]
          },
          "execution_count": 155,
          "metadata": {},
          "output_type": "execute_result"
        }
      ],
      "source": [
        "model.predict(x3).shape"
      ]
    },
    {
      "cell_type": "code",
      "execution_count": null,
      "metadata": {
        "colab": {
          "background_save": true,
          "base_uri": "https://localhost:8080/"
        },
        "id": "0dZ9uGa1t8vx",
        "outputId": "74c65671-58d7-4788-af97-6a7ba8336de9"
      },
      "outputs": [
        {
          "name": "stdout",
          "output_type": "stream",
          "text": [
            "1/1 [==============================] - 0s 21ms/step\n"
          ]
        },
        {
          "data": {
            "text/plain": [
              "array([[0.   , 0.   , 0.987, 0.   , 0.008, 0.   , 0.005, 0.   , 0.   ,\n",
              "        0.   ],\n",
              "       [0.   , 1.   , 0.   , 0.   , 0.   , 0.   , 0.   , 0.   , 0.   ,\n",
              "        0.   ]], dtype=float32)"
            ]
          },
          "execution_count": 156,
          "metadata": {},
          "output_type": "execute_result"
        }
      ],
      "source": [
        "model.predict(x3).round(3)"
      ]
    },
    {
      "cell_type": "code",
      "execution_count": null,
      "metadata": {
        "colab": {
          "background_save": true,
          "base_uri": "https://localhost:8080/"
        },
        "id": "VdlpM31KubhC",
        "outputId": "ce1c2424-a6a7-40a8-d2e1-b73d73f0eca2"
      },
      "outputs": [
        {
          "name": "stdout",
          "output_type": "stream",
          "text": [
            "1/1 [==============================] - 0s 23ms/step\n"
          ]
        },
        {
          "data": {
            "text/plain": [
              "array([2, 1])"
            ]
          },
          "execution_count": 157,
          "metadata": {},
          "output_type": "execute_result"
        }
      ],
      "source": [
        "np.argmax(model.predict(x3).round(3), axis=1)"
      ]
    },
    {
      "cell_type": "markdown",
      "metadata": {
        "id": "9Hsg6WER0DUL"
      },
      "source": [
        "The np.argmax function is used to find the indices of the maximum values along a specified axis. In the context of np.argmax(model.predict(x3).round(3), axis=1), it helps to determine the class with the highest predicted probability for each sample in x3."
      ]
    },
    {
      "cell_type": "code",
      "execution_count": null,
      "metadata": {
        "colab": {
          "background_save": true,
          "base_uri": "https://localhost:8080/"
        },
        "id": "4VvoPBlF0iZK",
        "outputId": "66e9631c-7ad0-4ca5-cf0f-eb21308ba4c8"
      },
      "outputs": [
        {
          "data": {
            "text/plain": [
              "(10000,)"
            ]
          },
          "execution_count": 158,
          "metadata": {},
          "output_type": "execute_result"
        }
      ],
      "source": [
        "y_test.shape"
      ]
    },
    {
      "cell_type": "code",
      "execution_count": null,
      "metadata": {
        "colab": {
          "background_save": true,
          "base_uri": "https://localhost:8080/"
        },
        "id": "gJ4IBfkt0NSI",
        "outputId": "d78e113f-7d55-4db0-d367-0753b5aeeeb7"
      },
      "outputs": [
        {
          "data": {
            "text/plain": [
              "array([2, 1], dtype=uint8)"
            ]
          },
          "execution_count": 159,
          "metadata": {},
          "output_type": "execute_result"
        }
      ],
      "source": [
        "y_test[1:3]"
      ]
    },
    {
      "cell_type": "markdown",
      "metadata": {
        "id": "wCnGGjpnbvx3"
      },
      "source": [
        "#Regression"
      ]
    },
    {
      "cell_type": "markdown",
      "metadata": {
        "id": "FDToVzd9iWa4"
      },
      "source": [
        "https://scikit-learn.org/stable/modules/generated/sklearn.datasets.fetch_california_housing.html"
      ]
    },
    {
      "cell_type": "code",
      "execution_count": null,
      "metadata": {
        "colab": {
          "background_save": true
        },
        "id": "DkxEGU7RbzQj"
      },
      "outputs": [],
      "source": [
        "from sklearn.datasets import fetch_california_housing"
      ]
    },
    {
      "cell_type": "code",
      "execution_count": null,
      "metadata": {
        "colab": {
          "background_save": true,
          "base_uri": "https://localhost:8080/",
          "height": 203
        },
        "id": "Fv6yMkxDeOsf",
        "outputId": "e715a2c2-e8d2-4332-c83f-325b4eeaaab0"
      },
      "outputs": [
        {
          "data": {
            "text/html": [
              "<div style=\"max-width:800px; border: 1px solid var(--colab-border-color);\"><style>\n",
              "      pre.function-repr-contents {\n",
              "        overflow-x: auto;\n",
              "        padding: 8px 12px;\n",
              "        max-height: 500px;\n",
              "      }\n",
              "\n",
              "      pre.function-repr-contents.function-repr-contents-collapsed {\n",
              "        cursor: pointer;\n",
              "        max-height: 100px;\n",
              "      }\n",
              "    </style>\n",
              "    <pre style=\"white-space: initial; background:\n",
              "         var(--colab-secondary-surface-color); padding: 8px 12px;\n",
              "         border-bottom: 1px solid var(--colab-border-color);\"><b>sklearn.datasets._california_housing.fetch_california_housing</b><br/>def fetch_california_housing(*, data_home=None, download_if_missing=True, return_X_y=False, as_frame=False)</pre><pre class=\"function-repr-contents function-repr-contents-collapsed\" style=\"\"><a class=\"filepath\" style=\"display:none\" href=\"#\">/usr/local/lib/python3.10/dist-packages/sklearn/datasets/_california_housing.py</a>Load the California housing dataset (regression).\n",
              "\n",
              "==============   ==============\n",
              "Samples total             20640\n",
              "Dimensionality                8\n",
              "Features                   real\n",
              "Target           real 0.15 - 5.\n",
              "==============   ==============\n",
              "\n",
              "Read more in the :ref:`User Guide &lt;california_housing_dataset&gt;`.\n",
              "\n",
              "Parameters\n",
              "----------\n",
              "data_home : str, default=None\n",
              "    Specify another download and cache folder for the datasets. By default\n",
              "    all scikit-learn data is stored in &#x27;~/scikit_learn_data&#x27; subfolders.\n",
              "\n",
              "download_if_missing : bool, default=True\n",
              "    If False, raise a IOError if the data is not locally available\n",
              "    instead of trying to download the data from the source site.\n",
              "\n",
              "return_X_y : bool, default=False\n",
              "    If True, returns ``(data.data, data.target)`` instead of a Bunch\n",
              "    object.\n",
              "\n",
              "    .. versionadded:: 0.20\n",
              "\n",
              "as_frame : bool, default=False\n",
              "    If True, the data is a pandas DataFrame including columns with\n",
              "    appropriate dtypes (numeric, string or categorical). The target is\n",
              "    a pandas DataFrame or Series depending on the number of target_columns.\n",
              "\n",
              "    .. versionadded:: 0.23\n",
              "\n",
              "Returns\n",
              "-------\n",
              "dataset : :class:`~sklearn.utils.Bunch`\n",
              "    Dictionary-like object, with the following attributes.\n",
              "\n",
              "    data : ndarray, shape (20640, 8)\n",
              "        Each row corresponding to the 8 feature values in order.\n",
              "        If ``as_frame`` is True, ``data`` is a pandas object.\n",
              "    target : numpy array of shape (20640,)\n",
              "        Each value corresponds to the average\n",
              "        house value in units of 100,000.\n",
              "        If ``as_frame`` is True, ``target`` is a pandas object.\n",
              "    feature_names : list of length 8\n",
              "        Array of ordered feature names used in the dataset.\n",
              "    DESCR : str\n",
              "        Description of the California housing dataset.\n",
              "    frame : pandas DataFrame\n",
              "        Only present when `as_frame=True`. DataFrame with ``data`` and\n",
              "        ``target``.\n",
              "\n",
              "        .. versionadded:: 0.23\n",
              "\n",
              "(data, target) : tuple if ``return_X_y`` is True\n",
              "    A tuple of two ndarray. The first containing a 2D array of\n",
              "    shape (n_samples, n_features) with each row representing one\n",
              "    sample and each column representing the features. The second\n",
              "    ndarray of shape (n_samples,) containing the target samples.\n",
              "\n",
              "    .. versionadded:: 0.20\n",
              "\n",
              "Notes\n",
              "-----\n",
              "\n",
              "This dataset consists of 20,640 samples and 9 features.</pre>\n",
              "      <script>\n",
              "      if (google.colab.kernel.accessAllowed && google.colab.files && google.colab.files.view) {\n",
              "        for (const element of document.querySelectorAll('.filepath')) {\n",
              "          element.style.display = 'block'\n",
              "          element.onclick = (event) => {\n",
              "            event.preventDefault();\n",
              "            event.stopPropagation();\n",
              "            google.colab.files.view(element.textContent, 53);\n",
              "          };\n",
              "        }\n",
              "      }\n",
              "      for (const element of document.querySelectorAll('.function-repr-contents')) {\n",
              "        element.onclick = (event) => {\n",
              "          event.preventDefault();\n",
              "          event.stopPropagation();\n",
              "          element.classList.toggle('function-repr-contents-collapsed');\n",
              "        };\n",
              "      }\n",
              "      </script>\n",
              "      </div>"
            ],
            "text/plain": [
              "<function sklearn.datasets._california_housing.fetch_california_housing(*, data_home=None, download_if_missing=True, return_X_y=False, as_frame=False)>"
            ]
          },
          "execution_count": 161,
          "metadata": {},
          "output_type": "execute_result"
        }
      ],
      "source": [
        "fetch_california_housing"
      ]
    },
    {
      "cell_type": "code",
      "execution_count": null,
      "metadata": {
        "colab": {
          "background_save": true
        },
        "id": "Fw-QJFXYeG1X"
      },
      "outputs": [],
      "source": [
        "california_housing = fetch_california_housing()"
      ]
    },
    {
      "cell_type": "code",
      "execution_count": null,
      "metadata": {
        "colab": {
          "background_save": true
        },
        "id": "-UVl99SreHwx"
      },
      "outputs": [],
      "source": [
        "from sklearn.model_selection import train_test_split"
      ]
    },
    {
      "cell_type": "markdown",
      "metadata": {
        "id": "_upKy6RNi0LP"
      },
      "source": [
        "https://scikit-learn.org/stable/modules/generated/sklearn.model_selection.train_test_split.html"
      ]
    },
    {
      "cell_type": "code",
      "execution_count": null,
      "metadata": {
        "colab": {
          "background_save": true
        },
        "id": "yM2LegVcevDH"
      },
      "outputs": [],
      "source": [
        "X_train0, X_test, y_train0, y_test = train_test_split(california_housing[\"data\"],california_housing[\"target\"])"
      ]
    },
    {
      "cell_type": "code",
      "execution_count": null,
      "metadata": {
        "colab": {
          "background_save": true
        },
        "id": "yrCeqkNbnuDP"
      },
      "outputs": [],
      "source": [
        "X_train1, X_validation, y_train1, y_validation = train_test_split(X_train0,y_train0)"
      ]
    },
    {
      "cell_type": "code",
      "execution_count": null,
      "metadata": {
        "colab": {
          "background_save": true,
          "base_uri": "https://localhost:8080/"
        },
        "id": "S23SxZb8px8A",
        "outputId": "0d7839fa-e872-493e-e43e-93651496afe8"
      },
      "outputs": [
        {
          "data": {
            "text/plain": [
              "(5160, 8)"
            ]
          },
          "execution_count": 166,
          "metadata": {},
          "output_type": "execute_result"
        }
      ],
      "source": [
        "X_test.shape"
      ]
    },
    {
      "cell_type": "code",
      "execution_count": null,
      "metadata": {
        "colab": {
          "background_save": true,
          "base_uri": "https://localhost:8080/"
        },
        "id": "vBbh-zgHp1GQ",
        "outputId": "27f9efb0-74f7-448c-afc1-8b41bf5413fe"
      },
      "outputs": [
        {
          "data": {
            "text/plain": [
              "(15480, 8)"
            ]
          },
          "execution_count": 167,
          "metadata": {},
          "output_type": "execute_result"
        }
      ],
      "source": [
        "X_train0.shape"
      ]
    },
    {
      "cell_type": "code",
      "execution_count": null,
      "metadata": {
        "colab": {
          "background_save": true,
          "base_uri": "https://localhost:8080/"
        },
        "id": "Mte9jfvMp59s",
        "outputId": "afc12ec0-c2ff-4fe4-d5e5-bf291dba5af1"
      },
      "outputs": [
        {
          "data": {
            "text/plain": [
              "(11610, 8)"
            ]
          },
          "execution_count": 168,
          "metadata": {},
          "output_type": "execute_result"
        }
      ],
      "source": [
        "X_train1.shape"
      ]
    },
    {
      "cell_type": "code",
      "execution_count": null,
      "metadata": {
        "colab": {
          "background_save": true,
          "base_uri": "https://localhost:8080/"
        },
        "id": "d2Wqfs17p-U3",
        "outputId": "733c38e1-e2d1-4020-f5ba-4ff250886977"
      },
      "outputs": [
        {
          "data": {
            "text/plain": [
              "(3870, 8)"
            ]
          },
          "execution_count": 169,
          "metadata": {},
          "output_type": "execute_result"
        }
      ],
      "source": [
        "X_validation.shape"
      ]
    },
    {
      "cell_type": "markdown",
      "metadata": {
        "id": "qOG1Q6Pnqwgw"
      },
      "source": [
        "https://scikit-learn.org/stable/modules/generated/sklearn.preprocessing.StandardScaler.html  \n",
        "To standardize numerical data, follow these steps:\n",
        "\n",
        "1-Calculate Mean and Standard Deviation: Compute the mean (average) and standard deviation of the numerical data.\n",
        "\n",
        "2-Apply the Standardization Formula: For each data point, subtract the mean and divide by the standard deviation.\n",
        "\n",
        "3- Standardized Data: The result is the standardized data, which has a mean of 0 and a standard deviation of 1."
      ]
    },
    {
      "cell_type": "code",
      "execution_count": null,
      "metadata": {
        "colab": {
          "background_save": true
        },
        "id": "XEb0x9-gqBEQ"
      },
      "outputs": [],
      "source": [
        "from sklearn.preprocessing import StandardScaler\n",
        "sc = StandardScaler()\n",
        "X_train_s = sc.fit_transform(X_train1)\n",
        "X_validation_s = sc.transform(X_validation)\n",
        "X_test_s = sc.transform(X_test)"
      ]
    },
    {
      "cell_type": "code",
      "execution_count": null,
      "metadata": {
        "colab": {
          "background_save": true,
          "base_uri": "https://localhost:8080/"
        },
        "id": "eQlWPHBB0InI",
        "outputId": "1d12cb42-2b57-4e7e-f146-e4501165421c"
      },
      "outputs": [
        {
          "data": {
            "text/plain": [
              "array([[-5.38039893e-01,  8.11650212e-01, -7.15111831e-01, ...,\n",
              "         6.37368039e-02, -8.70094741e-01,  6.54889833e-01],\n",
              "       [-9.43918977e-01,  8.91159307e-01, -8.40817198e-02, ...,\n",
              "        -2.05350899e-02, -4.71155634e-01, -4.34962665e-01],\n",
              "       [ 3.55879042e+00, -1.65313174e+00,  1.18561659e+00, ...,\n",
              "        -9.59565993e-03,  5.66086042e-01, -1.30003938e-01],\n",
              "       ...,\n",
              "       [ 1.19369889e-01, -1.89165903e+00,  2.27731813e-02, ...,\n",
              "         3.56778780e-03,  1.11990739e+00, -1.18486117e+00],\n",
              "       [-3.36943557e-01, -1.41460446e+00, -2.23213995e-01, ...,\n",
              "        -2.87863320e-02, -1.52004349e-01, -6.24936953e-01],\n",
              "       [-6.15313317e-02,  4.14104735e-01, -2.43410341e-01, ...,\n",
              "        -2.11275686e-03, -1.34412827e+00,  1.20981473e+00]])"
            ]
          },
          "execution_count": 171,
          "metadata": {},
          "output_type": "execute_result"
        }
      ],
      "source": [
        "X_test_s"
      ]
    },
    {
      "cell_type": "code",
      "execution_count": null,
      "metadata": {
        "colab": {
          "background_save": true
        },
        "id": "w8d_P7LU0NxS"
      },
      "outputs": [],
      "source": [
        "#Define model\n",
        "model = keras.models.Sequential([\n",
        "    keras.layers.Dense(50, activation='relu'),\n",
        "    keras.layers.Dense(10, activation='relu'),\n",
        "    keras.layers.Dense(1)\n",
        "])"
      ]
    },
    {
      "cell_type": "markdown",
      "metadata": {
        "id": "zjNdDphi1Eh_"
      },
      "source": [
        "*When we don't have any limitation for output we can use no activation"
      ]
    },
    {
      "cell_type": "code",
      "execution_count": null,
      "metadata": {
        "colab": {
          "background_save": true
        },
        "id": "b_8PSM9L1Tnn"
      },
      "outputs": [],
      "source": [
        "model.compile(loss = \"mean_squared_error\",\n",
        "              optimizer = \"sgd\",\n",
        "              metrics = [\"mean_absolute_error\"])"
      ]
    },
    {
      "cell_type": "markdown",
      "metadata": {
        "id": "5q3ukm_h2CkH"
      },
      "source": [
        "https://keras.io/api/metrics/regression_metrics/"
      ]
    },
    {
      "cell_type": "code",
      "execution_count": null,
      "metadata": {
        "colab": {
          "background_save": true,
          "base_uri": "https://localhost:8080/"
        },
        "id": "UCVbFBun2rwn",
        "outputId": "70f6d572-97d6-4877-9f80-4c85d154f9b5"
      },
      "outputs": [
        {
          "name": "stdout",
          "output_type": "stream",
          "text": [
            "Epoch 1/30\n",
            "363/363 [==============================] - 2s 3ms/step - loss: 0.7467 - mean_absolute_error: 0.6002 - val_loss: 0.5424 - val_mean_absolute_error: 0.5242\n",
            "Epoch 2/30\n",
            "363/363 [==============================] - 1s 2ms/step - loss: 0.4967 - mean_absolute_error: 0.4999 - val_loss: 0.5058 - val_mean_absolute_error: 0.4911\n",
            "Epoch 3/30\n",
            "363/363 [==============================] - 1s 2ms/step - loss: 0.5226 - mean_absolute_error: 0.4892 - val_loss: 0.4731 - val_mean_absolute_error: 0.4906\n",
            "Epoch 4/30\n",
            "363/363 [==============================] - 1s 2ms/step - loss: 0.4151 - mean_absolute_error: 0.4624 - val_loss: 0.4660 - val_mean_absolute_error: 0.4923\n",
            "Epoch 5/30\n",
            "363/363 [==============================] - 1s 2ms/step - loss: 0.4004 - mean_absolute_error: 0.4540 - val_loss: 0.4476 - val_mean_absolute_error: 0.4628\n",
            "Epoch 6/30\n",
            "363/363 [==============================] - 1s 3ms/step - loss: 0.3914 - mean_absolute_error: 0.4481 - val_loss: 0.4370 - val_mean_absolute_error: 0.4616\n",
            "Epoch 7/30\n",
            "363/363 [==============================] - 1s 3ms/step - loss: 0.3834 - mean_absolute_error: 0.4424 - val_loss: 0.4306 - val_mean_absolute_error: 0.4629\n",
            "Epoch 8/30\n",
            "363/363 [==============================] - 1s 4ms/step - loss: 0.3754 - mean_absolute_error: 0.4363 - val_loss: 0.4184 - val_mean_absolute_error: 0.4508\n",
            "Epoch 9/30\n",
            "363/363 [==============================] - 1s 4ms/step - loss: 0.3678 - mean_absolute_error: 0.4313 - val_loss: 0.4174 - val_mean_absolute_error: 0.4474\n",
            "Epoch 10/30\n",
            "363/363 [==============================] - 1s 4ms/step - loss: 0.3622 - mean_absolute_error: 0.4267 - val_loss: 0.4052 - val_mean_absolute_error: 0.4474\n",
            "Epoch 11/30\n",
            "363/363 [==============================] - 1s 2ms/step - loss: 0.3577 - mean_absolute_error: 0.4246 - val_loss: 0.4071 - val_mean_absolute_error: 0.4420\n",
            "Epoch 12/30\n",
            "363/363 [==============================] - 1s 2ms/step - loss: 0.3523 - mean_absolute_error: 0.4204 - val_loss: 0.3910 - val_mean_absolute_error: 0.4397\n",
            "Epoch 13/30\n",
            "363/363 [==============================] - 1s 3ms/step - loss: 0.3491 - mean_absolute_error: 0.4193 - val_loss: 0.3893 - val_mean_absolute_error: 0.4424\n",
            "Epoch 14/30\n",
            "363/363 [==============================] - 1s 2ms/step - loss: 0.3452 - mean_absolute_error: 0.4165 - val_loss: 0.3826 - val_mean_absolute_error: 0.4337\n",
            "Epoch 15/30\n",
            "363/363 [==============================] - 1s 2ms/step - loss: 0.3421 - mean_absolute_error: 0.4143 - val_loss: 0.3828 - val_mean_absolute_error: 0.4267\n",
            "Epoch 16/30\n",
            "363/363 [==============================] - 1s 3ms/step - loss: 0.3391 - mean_absolute_error: 0.4126 - val_loss: 0.3850 - val_mean_absolute_error: 0.4282\n",
            "Epoch 17/30\n",
            "363/363 [==============================] - 1s 2ms/step - loss: 0.3357 - mean_absolute_error: 0.4091 - val_loss: 0.3817 - val_mean_absolute_error: 0.4354\n",
            "Epoch 18/30\n",
            "363/363 [==============================] - 1s 2ms/step - loss: 0.3325 - mean_absolute_error: 0.4080 - val_loss: 0.3715 - val_mean_absolute_error: 0.4189\n",
            "Epoch 19/30\n",
            "363/363 [==============================] - 1s 3ms/step - loss: 0.3308 - mean_absolute_error: 0.4055 - val_loss: 0.4109 - val_mean_absolute_error: 0.4395\n",
            "Epoch 20/30\n",
            "363/363 [==============================] - 1s 3ms/step - loss: 0.3290 - mean_absolute_error: 0.4060 - val_loss: 0.3677 - val_mean_absolute_error: 0.4207\n",
            "Epoch 21/30\n",
            "363/363 [==============================] - 1s 4ms/step - loss: 0.3267 - mean_absolute_error: 0.4036 - val_loss: 0.3840 - val_mean_absolute_error: 0.4545\n",
            "Epoch 22/30\n",
            "363/363 [==============================] - 1s 4ms/step - loss: 0.3263 - mean_absolute_error: 0.4035 - val_loss: 0.3744 - val_mean_absolute_error: 0.4458\n",
            "Epoch 23/30\n",
            "363/363 [==============================] - 1s 3ms/step - loss: 0.3235 - mean_absolute_error: 0.4002 - val_loss: 0.3622 - val_mean_absolute_error: 0.4246\n",
            "Epoch 24/30\n",
            "363/363 [==============================] - 1s 2ms/step - loss: 0.3213 - mean_absolute_error: 0.4002 - val_loss: 0.3623 - val_mean_absolute_error: 0.4168\n",
            "Epoch 25/30\n",
            "363/363 [==============================] - 1s 3ms/step - loss: 0.3206 - mean_absolute_error: 0.3984 - val_loss: 0.3739 - val_mean_absolute_error: 0.4405\n",
            "Epoch 26/30\n",
            "363/363 [==============================] - 1s 3ms/step - loss: 0.3187 - mean_absolute_error: 0.3969 - val_loss: 0.3590 - val_mean_absolute_error: 0.4165\n",
            "Epoch 27/30\n",
            "363/363 [==============================] - 1s 3ms/step - loss: 0.3174 - mean_absolute_error: 0.3957 - val_loss: 0.3639 - val_mean_absolute_error: 0.4135\n",
            "Epoch 28/30\n",
            "363/363 [==============================] - 1s 3ms/step - loss: 0.3162 - mean_absolute_error: 0.3954 - val_loss: 0.3931 - val_mean_absolute_error: 0.4446\n",
            "Epoch 29/30\n",
            "363/363 [==============================] - 1s 3ms/step - loss: 0.3149 - mean_absolute_error: 0.3954 - val_loss: 0.3549 - val_mean_absolute_error: 0.4172\n",
            "Epoch 30/30\n",
            "363/363 [==============================] - 1s 3ms/step - loss: 0.3135 - mean_absolute_error: 0.3943 - val_loss: 0.3516 - val_mean_absolute_error: 0.4180\n"
          ]
        },
        {
          "data": {
            "text/plain": [
              "<keras.src.callbacks.History at 0x79c98f3e8cd0>"
            ]
          },
          "execution_count": 174,
          "metadata": {},
          "output_type": "execute_result"
        }
      ],
      "source": [
        "model.fit(X_train_s, y_train1, epochs=30,\n",
        "          validation_data=(X_validation_s, y_validation))"
      ]
    },
    {
      "cell_type": "markdown",
      "metadata": {
        "id": "v1UQUc5yYeg9"
      },
      "source": [
        "#Functional API (Wide and Deep Network)\n",
        "https://keras.io/guides/functional_api/   \n",
        "![Screenshot 2024-07-06 074830.png](data:image/png;base64,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)"
      ]
    },
    {
      "cell_type": "code",
      "execution_count": null,
      "metadata": {
        "colab": {
          "background_save": true,
          "base_uri": "https://localhost:8080/"
        },
        "id": "f9-MdvyyS88-",
        "outputId": "c2a4af1b-2e2c-42e4-f4a2-95cfc3ae94fd"
      },
      "outputs": [
        {
          "data": {
            "text/plain": [
              "(8,)"
            ]
          },
          "execution_count": 57,
          "metadata": {},
          "output_type": "execute_result"
        }
      ],
      "source": [
        "X_train0.shape[1:]\n",
        "# output is tuple"
      ]
    },
    {
      "cell_type": "code",
      "execution_count": null,
      "metadata": {
        "colab": {
          "background_save": true
        },
        "id": "IblByDOu6mTr"
      },
      "outputs": [],
      "source": [
        "#It's important that you set the input\n",
        "input_ = keras.layers.Input(shape=X_train1.shape[1:])\n",
        "hidden_layer1=keras.layers.Dense(50, activation='relu')(input_)\n",
        "hidden_layer2=keras.layers.Dense(50, activation='relu')(hidden_layer1)\n",
        "Concatenate_layer=keras.layers.Concatenate()([input_, hidden_layer2])\n",
        "output=keras.layers.Dense(1)(Concatenate_layer)\n",
        "model = keras.Model(inputs=[input_], outputs=[output])"
      ]
    },
    {
      "cell_type": "markdown",
      "metadata": {
        "id": "0FPQO1okWL01"
      },
      "source": [
        "https://keras.io/api/layers/merging_layers/concatenate/"
      ]
    },
    {
      "cell_type": "code",
      "execution_count": null,
      "metadata": {
        "colab": {
          "background_save": true
        },
        "id": "1OMakV31WLfl"
      },
      "outputs": [],
      "source": [
        "model.compile(loss = \"mean_squared_error\",\n",
        "              optimizer = \"sgd\",\n",
        "              metrics = [\"mean_absolute_error\"])"
      ]
    },
    {
      "cell_type": "code",
      "execution_count": null,
      "metadata": {
        "colab": {
          "background_save": true,
          "base_uri": "https://localhost:8080/"
        },
        "id": "Lw0OciGxZWyl",
        "outputId": "8cb0a791-8c92-4e17-925a-36ac8bc1c612"
      },
      "outputs": [
        {
          "name": "stdout",
          "output_type": "stream",
          "text": [
            "Epoch 1/30\n",
            "363/363 [==============================] - 1s 3ms/step - loss: 0.3115 - mean_absolute_error: 0.3934 - val_loss: 0.3587 - val_mean_absolute_error: 0.4293\n",
            "Epoch 2/30\n",
            "363/363 [==============================] - 1s 2ms/step - loss: 0.3105 - mean_absolute_error: 0.3922 - val_loss: 0.3536 - val_mean_absolute_error: 0.4183\n",
            "Epoch 3/30\n",
            "363/363 [==============================] - 1s 2ms/step - loss: 0.3095 - mean_absolute_error: 0.3903 - val_loss: 0.3553 - val_mean_absolute_error: 0.4149\n",
            "Epoch 4/30\n",
            "363/363 [==============================] - 1s 3ms/step - loss: 0.3070 - mean_absolute_error: 0.3898 - val_loss: 0.3465 - val_mean_absolute_error: 0.4116\n",
            "Epoch 5/30\n",
            "363/363 [==============================] - 1s 4ms/step - loss: 0.3045 - mean_absolute_error: 0.3874 - val_loss: 0.3521 - val_mean_absolute_error: 0.4098\n",
            "Epoch 6/30\n",
            "363/363 [==============================] - 1s 4ms/step - loss: 0.3025 - mean_absolute_error: 0.3865 - val_loss: 0.3460 - val_mean_absolute_error: 0.4164\n",
            "Epoch 7/30\n",
            "363/363 [==============================] - 1s 2ms/step - loss: 0.3030 - mean_absolute_error: 0.3860 - val_loss: 0.3413 - val_mean_absolute_error: 0.4022\n",
            "Epoch 8/30\n",
            "363/363 [==============================] - 1s 3ms/step - loss: 0.3007 - mean_absolute_error: 0.3839 - val_loss: 0.3528 - val_mean_absolute_error: 0.4044\n",
            "Epoch 9/30\n",
            "363/363 [==============================] - 1s 3ms/step - loss: 0.3016 - mean_absolute_error: 0.3847 - val_loss: 0.3437 - val_mean_absolute_error: 0.3967\n",
            "Epoch 10/30\n",
            "363/363 [==============================] - 1s 3ms/step - loss: 0.3001 - mean_absolute_error: 0.3829 - val_loss: 0.3411 - val_mean_absolute_error: 0.4048\n",
            "Epoch 11/30\n",
            "363/363 [==============================] - 1s 3ms/step - loss: 0.2968 - mean_absolute_error: 0.3810 - val_loss: 0.3457 - val_mean_absolute_error: 0.3990\n",
            "Epoch 12/30\n",
            "363/363 [==============================] - 1s 2ms/step - loss: 0.2968 - mean_absolute_error: 0.3801 - val_loss: 0.3364 - val_mean_absolute_error: 0.3972\n",
            "Epoch 13/30\n",
            "363/363 [==============================] - 1s 2ms/step - loss: 0.2962 - mean_absolute_error: 0.3810 - val_loss: 0.3414 - val_mean_absolute_error: 0.4121\n",
            "Epoch 14/30\n",
            "363/363 [==============================] - 1s 3ms/step - loss: 0.2959 - mean_absolute_error: 0.3792 - val_loss: 0.3276 - val_mean_absolute_error: 0.3964\n",
            "Epoch 15/30\n",
            "363/363 [==============================] - 1s 3ms/step - loss: 0.2935 - mean_absolute_error: 0.3782 - val_loss: 0.3382 - val_mean_absolute_error: 0.4061\n",
            "Epoch 16/30\n",
            "363/363 [==============================] - 1s 2ms/step - loss: 0.2948 - mean_absolute_error: 0.3781 - val_loss: 0.3342 - val_mean_absolute_error: 0.3906\n",
            "Epoch 17/30\n",
            "363/363 [==============================] - 1s 2ms/step - loss: 0.2917 - mean_absolute_error: 0.3773 - val_loss: 0.3341 - val_mean_absolute_error: 0.3934\n",
            "Epoch 18/30\n",
            "363/363 [==============================] - 1s 4ms/step - loss: 0.2902 - mean_absolute_error: 0.3751 - val_loss: 0.3382 - val_mean_absolute_error: 0.4108\n",
            "Epoch 19/30\n",
            "363/363 [==============================] - 1s 4ms/step - loss: 0.2913 - mean_absolute_error: 0.3762 - val_loss: 0.3357 - val_mean_absolute_error: 0.4059\n",
            "Epoch 20/30\n",
            "363/363 [==============================] - 1s 3ms/step - loss: 0.2888 - mean_absolute_error: 0.3751 - val_loss: 0.3247 - val_mean_absolute_error: 0.3858\n",
            "Epoch 21/30\n",
            "363/363 [==============================] - 1s 2ms/step - loss: 0.2891 - mean_absolute_error: 0.3744 - val_loss: 0.3483 - val_mean_absolute_error: 0.3963\n",
            "Epoch 22/30\n",
            "363/363 [==============================] - 1s 2ms/step - loss: 0.2893 - mean_absolute_error: 0.3754 - val_loss: 0.3273 - val_mean_absolute_error: 0.3976\n",
            "Epoch 23/30\n",
            "363/363 [==============================] - 1s 2ms/step - loss: 0.2880 - mean_absolute_error: 0.3745 - val_loss: 0.3276 - val_mean_absolute_error: 0.3871\n",
            "Epoch 24/30\n",
            "363/363 [==============================] - 1s 2ms/step - loss: 0.2867 - mean_absolute_error: 0.3739 - val_loss: 0.3255 - val_mean_absolute_error: 0.3921\n",
            "Epoch 25/30\n",
            "363/363 [==============================] - 1s 2ms/step - loss: 0.2850 - mean_absolute_error: 0.3722 - val_loss: 0.3281 - val_mean_absolute_error: 0.4009\n",
            "Epoch 26/30\n",
            "363/363 [==============================] - 1s 2ms/step - loss: 0.2846 - mean_absolute_error: 0.3730 - val_loss: 0.3268 - val_mean_absolute_error: 0.3884\n",
            "Epoch 27/30\n",
            "363/363 [==============================] - 1s 2ms/step - loss: 0.2838 - mean_absolute_error: 0.3719 - val_loss: 0.3476 - val_mean_absolute_error: 0.4242\n",
            "Epoch 28/30\n",
            "363/363 [==============================] - 1s 2ms/step - loss: 0.2847 - mean_absolute_error: 0.3720 - val_loss: 0.3282 - val_mean_absolute_error: 0.3838\n",
            "Epoch 29/30\n",
            "363/363 [==============================] - 1s 2ms/step - loss: 0.2831 - mean_absolute_error: 0.3720 - val_loss: 0.3288 - val_mean_absolute_error: 0.3960\n",
            "Epoch 30/30\n",
            "363/363 [==============================] - 1s 3ms/step - loss: 0.2826 - mean_absolute_error: 0.3716 - val_loss: 0.3281 - val_mean_absolute_error: 0.3859\n"
          ]
        },
        {
          "data": {
            "text/plain": [
              "<keras.src.callbacks.History at 0x79c98f44ef50>"
            ]
          },
          "execution_count": 175,
          "metadata": {},
          "output_type": "execute_result"
        }
      ],
      "source": [
        "model.fit(X_train_s, y_train1, epochs=30,\n",
        "          validation_data=(X_validation_s, y_validation))"
      ]
    },
    {
      "cell_type": "markdown",
      "source": [
        "![Screenshot 2024-07-06 075611.png](data:image/png;base64,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)"
      ],
      "metadata": {
        "id": "ZCYXn-XcjxAv"
      }
    },
    {
      "cell_type": "code",
      "source": [],
      "metadata": {
        "id": "1w2CFKmNjyr0"
      },
      "execution_count": null,
      "outputs": []
    }
  ],
  "metadata": {
    "colab": {
      "provenance": []
    },
    "kernelspec": {
      "display_name": "Python 3",
      "name": "python3"
    },
    "language_info": {
      "name": "python"
    }
  },
  "nbformat": 4,
  "nbformat_minor": 0
}