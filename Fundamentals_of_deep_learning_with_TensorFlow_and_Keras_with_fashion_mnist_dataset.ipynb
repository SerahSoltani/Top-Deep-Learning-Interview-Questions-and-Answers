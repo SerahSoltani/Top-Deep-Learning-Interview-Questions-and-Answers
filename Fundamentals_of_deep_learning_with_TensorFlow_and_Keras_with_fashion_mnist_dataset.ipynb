{
  "nbformat": 4,
  "nbformat_minor": 0,
  "metadata": {
    "colab": {
      "provenance": [],
      "authorship_tag": "ABX9TyPbwlvCru0g0zJtfwPPrfkT",
      "include_colab_link": true
    },
    "kernelspec": {
      "name": "python3",
      "display_name": "Python 3"
    },
    "language_info": {
      "name": "python"
    }
  },
  "cells": [
    {
      "cell_type": "markdown",
      "metadata": {
        "id": "view-in-github",
        "colab_type": "text"
      },
      "source": [
        "<a href=\"https://colab.research.google.com/github/SerahSoltani/Top-Deep-Learning-Interview-Questions-and-Answers/blob/main/Fundamentals_of_deep_learning_with_TensorFlow_and_Keras_with_fashion_mnist_dataset.ipynb\" target=\"_parent\"><img src=\"https://colab.research.google.com/assets/colab-badge.svg\" alt=\"Open In Colab\"/></a>"
      ]
    },
    {
      "cell_type": "markdown",
      "source": [
        "https://github.com/zalandoresearch/fashion-mnist\n",
        "\n",
        "https://keras.io/api/datasets/fashion_mnist/"
      ],
      "metadata": {
        "id": "ZwEG4rc6zTw_"
      }
    },
    {
      "cell_type": "code",
      "source": [
        "import tensorflow as tf\n",
        "from tensorflow import keras\n",
        "\n",
        "print(tf.version.VERSION)  # Access the version directly from the keras module"
      ],
      "metadata": {
        "id": "UZ0-SdpSzocb",
        "colab": {
          "base_uri": "https://localhost:8080/"
        },
        "outputId": "c2de748d-e351-4b94-c304-01f040fb7cc5"
      },
      "execution_count": 32,
      "outputs": [
        {
          "output_type": "stream",
          "name": "stdout",
          "text": [
            "2.15.0\n"
          ]
        }
      ]
    },
    {
      "cell_type": "code",
      "source": [
        "fmnist_data = keras.datasets.fashion_mnist"
      ],
      "metadata": {
        "id": "9k5lHyUPvi0B"
      },
      "execution_count": 33,
      "outputs": []
    },
    {
      "cell_type": "code",
      "source": [
        "fmnist_data.load_data()"
      ],
      "metadata": {
        "id": "RBlzORSHyPPI",
        "colab": {
          "base_uri": "https://localhost:8080/"
        },
        "outputId": "1889b65d-42c9-4319-e17a-280c085688b4"
      },
      "execution_count": 34,
      "outputs": [
        {
          "output_type": "execute_result",
          "data": {
            "text/plain": [
              "((array([[[0, 0, 0, ..., 0, 0, 0],\n",
              "          [0, 0, 0, ..., 0, 0, 0],\n",
              "          [0, 0, 0, ..., 0, 0, 0],\n",
              "          ...,\n",
              "          [0, 0, 0, ..., 0, 0, 0],\n",
              "          [0, 0, 0, ..., 0, 0, 0],\n",
              "          [0, 0, 0, ..., 0, 0, 0]],\n",
              "  \n",
              "         [[0, 0, 0, ..., 0, 0, 0],\n",
              "          [0, 0, 0, ..., 0, 0, 0],\n",
              "          [0, 0, 0, ..., 0, 0, 0],\n",
              "          ...,\n",
              "          [0, 0, 0, ..., 0, 0, 0],\n",
              "          [0, 0, 0, ..., 0, 0, 0],\n",
              "          [0, 0, 0, ..., 0, 0, 0]],\n",
              "  \n",
              "         [[0, 0, 0, ..., 0, 0, 0],\n",
              "          [0, 0, 0, ..., 0, 0, 0],\n",
              "          [0, 0, 0, ..., 0, 0, 0],\n",
              "          ...,\n",
              "          [0, 0, 0, ..., 0, 0, 0],\n",
              "          [0, 0, 0, ..., 0, 0, 0],\n",
              "          [0, 0, 0, ..., 0, 0, 0]],\n",
              "  \n",
              "         ...,\n",
              "  \n",
              "         [[0, 0, 0, ..., 0, 0, 0],\n",
              "          [0, 0, 0, ..., 0, 0, 0],\n",
              "          [0, 0, 0, ..., 0, 0, 0],\n",
              "          ...,\n",
              "          [0, 0, 0, ..., 0, 0, 0],\n",
              "          [0, 0, 0, ..., 0, 0, 0],\n",
              "          [0, 0, 0, ..., 0, 0, 0]],\n",
              "  \n",
              "         [[0, 0, 0, ..., 0, 0, 0],\n",
              "          [0, 0, 0, ..., 0, 0, 0],\n",
              "          [0, 0, 0, ..., 0, 0, 0],\n",
              "          ...,\n",
              "          [0, 0, 0, ..., 0, 0, 0],\n",
              "          [0, 0, 0, ..., 0, 0, 0],\n",
              "          [0, 0, 0, ..., 0, 0, 0]],\n",
              "  \n",
              "         [[0, 0, 0, ..., 0, 0, 0],\n",
              "          [0, 0, 0, ..., 0, 0, 0],\n",
              "          [0, 0, 0, ..., 0, 0, 0],\n",
              "          ...,\n",
              "          [0, 0, 0, ..., 0, 0, 0],\n",
              "          [0, 0, 0, ..., 0, 0, 0],\n",
              "          [0, 0, 0, ..., 0, 0, 0]]], dtype=uint8),\n",
              "  array([9, 0, 0, ..., 3, 0, 5], dtype=uint8)),\n",
              " (array([[[0, 0, 0, ..., 0, 0, 0],\n",
              "          [0, 0, 0, ..., 0, 0, 0],\n",
              "          [0, 0, 0, ..., 0, 0, 0],\n",
              "          ...,\n",
              "          [0, 0, 0, ..., 0, 0, 0],\n",
              "          [0, 0, 0, ..., 0, 0, 0],\n",
              "          [0, 0, 0, ..., 0, 0, 0]],\n",
              "  \n",
              "         [[0, 0, 0, ..., 0, 0, 0],\n",
              "          [0, 0, 0, ..., 0, 0, 0],\n",
              "          [0, 0, 0, ..., 0, 0, 0],\n",
              "          ...,\n",
              "          [0, 0, 0, ..., 0, 0, 0],\n",
              "          [0, 0, 0, ..., 0, 0, 0],\n",
              "          [0, 0, 0, ..., 0, 0, 0]],\n",
              "  \n",
              "         [[0, 0, 0, ..., 0, 0, 0],\n",
              "          [0, 0, 0, ..., 0, 0, 0],\n",
              "          [0, 0, 0, ..., 0, 0, 0],\n",
              "          ...,\n",
              "          [0, 0, 0, ..., 0, 0, 0],\n",
              "          [0, 0, 0, ..., 0, 0, 0],\n",
              "          [0, 0, 0, ..., 0, 0, 0]],\n",
              "  \n",
              "         ...,\n",
              "  \n",
              "         [[0, 0, 0, ..., 0, 0, 0],\n",
              "          [0, 0, 0, ..., 0, 0, 0],\n",
              "          [0, 0, 0, ..., 0, 0, 0],\n",
              "          ...,\n",
              "          [0, 0, 0, ..., 0, 0, 0],\n",
              "          [0, 0, 0, ..., 0, 0, 0],\n",
              "          [0, 0, 0, ..., 0, 0, 0]],\n",
              "  \n",
              "         [[0, 0, 0, ..., 0, 0, 0],\n",
              "          [0, 0, 0, ..., 0, 0, 0],\n",
              "          [0, 0, 0, ..., 0, 0, 0],\n",
              "          ...,\n",
              "          [0, 0, 0, ..., 0, 0, 0],\n",
              "          [0, 0, 0, ..., 0, 0, 0],\n",
              "          [0, 0, 0, ..., 0, 0, 0]],\n",
              "  \n",
              "         [[0, 0, 0, ..., 0, 0, 0],\n",
              "          [0, 0, 0, ..., 0, 0, 0],\n",
              "          [0, 0, 0, ..., 0, 0, 0],\n",
              "          ...,\n",
              "          [0, 0, 0, ..., 0, 0, 0],\n",
              "          [0, 0, 0, ..., 0, 0, 0],\n",
              "          [0, 0, 0, ..., 0, 0, 0]]], dtype=uint8),\n",
              "  array([9, 2, 1, ..., 8, 1, 5], dtype=uint8)))"
            ]
          },
          "metadata": {},
          "execution_count": 34
        }
      ]
    },
    {
      "cell_type": "code",
      "source": [
        "(x_train, y_train), (x_test, y_test) = fmnist_data.load_data()"
      ],
      "metadata": {
        "id": "vWqmNPoCyVP5"
      },
      "execution_count": 35,
      "outputs": []
    },
    {
      "cell_type": "code",
      "source": [
        "x_train.shape"
      ],
      "metadata": {
        "id": "se9LUjsgyieK",
        "colab": {
          "base_uri": "https://localhost:8080/"
        },
        "outputId": "1fbf4598-33c5-4a68-f7f9-3e8ad4f79a8a"
      },
      "execution_count": 36,
      "outputs": [
        {
          "output_type": "execute_result",
          "data": {
            "text/plain": [
              "(60000, 28, 28)"
            ]
          },
          "metadata": {},
          "execution_count": 36
        }
      ]
    },
    {
      "cell_type": "code",
      "source": [
        "x_test.shape"
      ],
      "metadata": {
        "id": "rNUD5JTQy7AQ",
        "colab": {
          "base_uri": "https://localhost:8080/"
        },
        "outputId": "3fe1476a-219c-4dd4-f95e-b20ec28f22aa"
      },
      "execution_count": 37,
      "outputs": [
        {
          "output_type": "execute_result",
          "data": {
            "text/plain": [
              "(10000, 28, 28)"
            ]
          },
          "metadata": {},
          "execution_count": 37
        }
      ]
    },
    {
      "cell_type": "code",
      "source": [
        "y_train.shape     #this is a vector"
      ],
      "metadata": {
        "id": "4wtb9ocuzAsQ",
        "colab": {
          "base_uri": "https://localhost:8080/"
        },
        "outputId": "df51f5e4-a8a4-47da-c6af-15955f118c0e"
      },
      "execution_count": 38,
      "outputs": [
        {
          "output_type": "execute_result",
          "data": {
            "text/plain": [
              "(60000,)"
            ]
          },
          "metadata": {},
          "execution_count": 38
        }
      ]
    },
    {
      "cell_type": "code",
      "source": [
        "y_train[:10]      #index of our targets"
      ],
      "metadata": {
        "id": "Dydk2e1NzETY",
        "colab": {
          "base_uri": "https://localhost:8080/"
        },
        "outputId": "5653f7b0-433e-4fb5-ad22-a4b239c3194d"
      },
      "execution_count": 39,
      "outputs": [
        {
          "output_type": "execute_result",
          "data": {
            "text/plain": [
              "array([9, 0, 0, 3, 0, 2, 7, 2, 5, 5], dtype=uint8)"
            ]
          },
          "metadata": {},
          "execution_count": 39
        }
      ]
    },
    {
      "cell_type": "code",
      "source": [
        "x_train[1,]"
      ],
      "metadata": {
        "id": "WL7IsQDTIxdW",
        "colab": {
          "base_uri": "https://localhost:8080/",
          "height": 69
        },
        "outputId": "8911b36c-95e6-4f1c-be68-1e68d69faec2"
      },
      "execution_count": 40,
      "outputs": [
        {
          "output_type": "execute_result",
          "data": {
            "text/plain": [
              "array([[  0,   0,   0,   0,   0,   1,   0,   0,   0,   0,  41, 188, 103,\n",
              "         54,  48,  43,  87, 168, 133,  16,   0,   0,   0,   0,   0,   0,\n",
              "          0,   0],\n",
              "       [  0,   0,   0,   1,   0,   0,   0,  49, 136, 219, 216, 228, 236,\n",
              "        255, 255, 255, 255, 217, 215, 254, 231, 160,  45,   0,   0,   0,\n",
              "          0,   0],\n",
              "       [  0,   0,   0,   0,   0,  14, 176, 222, 224, 212, 203, 198, 196,\n",
              "        200, 215, 204, 202, 201, 201, 201, 209, 218, 224, 164,   0,   0,\n",
              "          0,   0],\n",
              "       [  0,   0,   0,   0,   0, 188, 219, 200, 198, 202, 198, 199, 199,\n",
              "        201, 196, 198, 198, 200, 200, 200, 200, 201, 200, 225,  41,   0,\n",
              "          0,   0],\n",
              "       [  0,   0,   0,   0,  51, 219, 199, 203, 203, 212, 238, 248, 250,\n",
              "        245, 249, 246, 247, 252, 248, 235, 207, 203, 203, 222, 140,   0,\n",
              "          0,   0],\n",
              "       [  0,   0,   0,   0, 116, 226, 206, 204, 207, 204, 101,  75,  47,\n",
              "         73,  48,  50,  45,  51,  63, 113, 222, 202, 206, 220, 224,   0,\n",
              "          0,   0],\n",
              "       [  0,   0,   0,   0, 200, 222, 209, 203, 215, 200,   0,  70,  98,\n",
              "          0, 103,  59,  68,  71,  49,   0, 219, 206, 214, 210, 250,  38,\n",
              "          0,   0],\n",
              "       [  0,   0,   0,   0, 247, 218, 212, 210, 215, 214,   0, 254, 243,\n",
              "        139, 255, 174, 251, 255, 205,   0, 215, 217, 214, 208, 220,  95,\n",
              "          0,   0],\n",
              "       [  0,   0,   0,  45, 226, 214, 214, 215, 224, 205,   0,  42,  35,\n",
              "         60,  16,  17,  12,  13,  70,   0, 189, 216, 212, 206, 212, 156,\n",
              "          0,   0],\n",
              "       [  0,   0,   0, 164, 235, 214, 211, 220, 216, 201,  52,  71,  89,\n",
              "         94,  83,  78,  70,  76,  92,  87, 206, 207, 222, 213, 219, 208,\n",
              "          0,   0],\n",
              "       [  0,   0,   0, 106, 187, 223, 237, 248, 211, 198, 252, 250, 248,\n",
              "        245, 248, 252, 253, 250, 252, 239, 201, 212, 225, 215, 193, 113,\n",
              "          0,   0],\n",
              "       [  0,   0,   0,   0,   0,  17,  54, 159, 222, 193, 208, 192, 197,\n",
              "        200, 200, 200, 200, 201, 203, 195, 210, 165,   0,   0,   0,   0,\n",
              "          0,   0],\n",
              "       [  0,   0,   0,   0,   0,   0,   0,  47, 225, 192, 214, 203, 206,\n",
              "        204, 204, 205, 206, 204, 212, 197, 218, 107,   0,   0,   0,   0,\n",
              "          0,   0],\n",
              "       [  0,   0,   0,   0,   1,   6,   0,  46, 212, 195, 212, 202, 206,\n",
              "        205, 204, 205, 206, 204, 212, 200, 218,  91,   0,   3,   1,   0,\n",
              "          0,   0],\n",
              "       [  0,   0,   0,   0,   0,   1,   0,  11, 197, 199, 205, 202, 205,\n",
              "        206, 204, 205, 207, 204, 205, 205, 218,  77,   0,   5,   0,   0,\n",
              "          0,   0],\n",
              "       [  0,   0,   0,   0,   0,   3,   0,   2, 191, 198, 201, 205, 206,\n",
              "        205, 205, 206, 209, 206, 199, 209, 219,  74,   0,   5,   0,   0,\n",
              "          0,   0],\n",
              "       [  0,   0,   0,   0,   0,   2,   0,   0, 188, 197, 200, 207, 207,\n",
              "        204, 207, 207, 210, 208, 198, 207, 221,  72,   0,   4,   0,   0,\n",
              "          0,   0],\n",
              "       [  0,   0,   0,   0,   0,   2,   0,   0, 215, 198, 203, 206, 208,\n",
              "        205, 207, 207, 210, 208, 200, 202, 222,  75,   0,   4,   0,   0,\n",
              "          0,   0],\n",
              "       [  0,   0,   0,   0,   0,   1,   0,   0, 212, 198, 209, 206, 209,\n",
              "        206, 208, 207, 211, 206, 205, 198, 221,  80,   0,   3,   0,   0,\n",
              "          0,   0],\n",
              "       [  0,   0,   0,   0,   0,   1,   0,   0, 204, 201, 205, 208, 207,\n",
              "        205, 211, 205, 210, 210, 209, 195, 221,  96,   0,   3,   0,   0,\n",
              "          0,   0],\n",
              "       [  0,   0,   0,   0,   0,   1,   0,   0, 202, 201, 205, 209, 207,\n",
              "        205, 213, 206, 210, 209, 210, 194, 217, 105,   0,   2,   0,   0,\n",
              "          0,   0],\n",
              "       [  0,   0,   0,   0,   0,   1,   0,   0, 204, 204, 205, 208, 207,\n",
              "        205, 215, 207, 210, 208, 211, 193, 213, 115,   0,   2,   0,   0,\n",
              "          0,   0],\n",
              "       [  0,   0,   0,   0,   0,   0,   0,   0, 204, 207, 207, 208, 206,\n",
              "        206, 215, 210, 210, 207, 212, 195, 210, 118,   0,   2,   0,   0,\n",
              "          0,   0],\n",
              "       [  0,   0,   0,   0,   0,   1,   0,   0, 198, 208, 208, 208, 204,\n",
              "        207, 212, 212, 210, 207, 211, 196, 207, 121,   0,   1,   0,   0,\n",
              "          0,   0],\n",
              "       [  0,   0,   0,   0,   0,   1,   0,   0, 198, 210, 207, 208, 206,\n",
              "        209, 213, 212, 211, 207, 210, 197, 207, 124,   0,   1,   0,   0,\n",
              "          0,   0],\n",
              "       [  0,   0,   0,   0,   0,   0,   0,   0, 172, 210, 203, 201, 199,\n",
              "        204, 207, 205, 204, 201, 205, 197, 206, 127,   0,   0,   0,   0,\n",
              "          0,   0],\n",
              "       [  0,   0,   0,   0,   0,   0,   0,   0, 188, 221, 214, 234, 236,\n",
              "        238, 244, 244, 244, 240, 243, 214, 224, 162,   0,   2,   0,   0,\n",
              "          0,   0],\n",
              "       [  0,   0,   0,   0,   0,   1,   0,   0, 139, 146, 130, 135, 135,\n",
              "        137, 125, 124, 125, 121, 119, 114, 130,  76,   0,   0,   0,   0,\n",
              "          0,   0]], dtype=uint8)"
            ],
            "text/html": [
              "<style>\n",
              "      .ndarray_repr .ndarray_raw_data {\n",
              "        display: none;\n",
              "      }\n",
              "      .ndarray_repr.show_array .ndarray_raw_data {\n",
              "        display: block;\n",
              "      }\n",
              "      .ndarray_repr.show_array .ndarray_image_preview {\n",
              "        display: none;\n",
              "      }\n",
              "      </style>\n",
              "      <div id=\"id-83c9b198-b044-414a-852a-3aeee78242e8\" class=\"ndarray_repr\"><pre>ndarray (28, 28) <button style=\"padding: 0 2px;\">show data</button></pre><img src=\"data:image/png;base64,iVBORw0KGgoAAAANSUhEUgAAABwAAAAcCAAAAABXZoBIAAAB90lEQVR4nF2QvWvTURSGn3PuTUwaSVMtlLZDBT+g0CragnQQwcnFQRAcdHNy0KngXyAIDg5O4qKuDrrp4ChFOthBsNrSxZZ0MMXYD5tffvfe45CkX2d9eF7e9wgAYsD487cL7Xzi5srTJvsnwMUnyz/WGmZmPxfT+qvJPQDVN+d1ezdPvn8nGZTKxc939+CnsY3kg6C5ooDY8PVF8ABTYw3vyiN9mvsohbC1Foj3Zrvm7MNGcvFFfW1kXfPi8UsPGr7qT4EC3ArOSuFlPvXhcnlocPNZ9KV/I+e6sRdW3TGqfNwZn313w3+dCpWYfs0s4YHJ30FdeYOJbPix5DJDfTSl1pXXeOBReTuWW2H65InCUN4q1m4P7PZLcboTOzd0plpZjl9Sis5L1K2litP6+97OgbP3r672NwsOEG31f7sDdAvxZz67ZsWKS4ikUrs01/mrAkgR23LJujmOJk560HJW/voMExCyApuo9SDKbtuCExNRbXuJB2IxUjRTMRVRS5qwfQiMijMRAM3FHTaJFBERJBWCFY6YLRc0mUvmfaR20AQSCKhgYqHcMX0PKlgHqoU+DnzIAAcmOEw0Hiok0BYhSVQwie5IIdRQFaTjH55SJ2RZ3s6ydo65I4VqFT+oWoTgVvtOo2kPirHwvVlAt01CymvzJID/CjnVF438ZwEAAAAASUVORK5CYII=\" class=\"ndarray_image_preview\" /><pre class=\"ndarray_raw_data\">array([[  0,   0,   0,   0,   0,   1,   0,   0,   0,   0,  41, 188, 103,\n",
              "         54,  48,  43,  87, 168, 133,  16,   0,   0,   0,   0,   0,   0,\n",
              "          0,   0],\n",
              "       [  0,   0,   0,   1,   0,   0,   0,  49, 136, 219, 216, 228, 236,\n",
              "        255, 255, 255, 255, 217, 215, 254, 231, 160,  45,   0,   0,   0,\n",
              "          0,   0],\n",
              "       [  0,   0,   0,   0,   0,  14, 176, 222, 224, 212, 203, 198, 196,\n",
              "        200, 215, 204, 202, 201, 201, 201, 209, 218, 224, 164,   0,   0,\n",
              "          0,   0],\n",
              "       [  0,   0,   0,   0,   0, 188, 219, 200, 198, 202, 198, 199, 199,\n",
              "        201, 196, 198, 198, 200, 200, 200, 200, 201, 200, 225,  41,   0,\n",
              "          0,   0],\n",
              "       [  0,   0,   0,   0,  51, 219, 199, 203, 203, 212, 238, 248, 250,\n",
              "        245, 249, 246, 247, 252, 248, 235, 207, 203, 203, 222, 140,   0,\n",
              "          0,   0],\n",
              "       [  0,   0,   0,   0, 116, 226, 206, 204, 207, 204, 101,  75,  47,\n",
              "         73,  48,  50,  45,  51,  63, 113, 222, 202, 206, 220, 224,   0,\n",
              "          0,   0],\n",
              "       [  0,   0,   0,   0, 200, 222, 209, 203, 215, 200,   0,  70,  98,\n",
              "          0, 103,  59,  68,  71,  49,   0, 219, 206, 214, 210, 250,  38,\n",
              "          0,   0],\n",
              "       [  0,   0,   0,   0, 247, 218, 212, 210, 215, 214,   0, 254, 243,\n",
              "        139, 255, 174, 251, 255, 205,   0, 215, 217, 214, 208, 220,  95,\n",
              "          0,   0],\n",
              "       [  0,   0,   0,  45, 226, 214, 214, 215, 224, 205,   0,  42,  35,\n",
              "         60,  16,  17,  12,  13,  70,   0, 189, 216, 212, 206, 212, 156,\n",
              "          0,   0],\n",
              "       [  0,   0,   0, 164, 235, 214, 211, 220, 216, 201,  52,  71,  89,\n",
              "         94,  83,  78,  70,  76,  92,  87, 206, 207, 222, 213, 219, 208,\n",
              "          0,   0],\n",
              "       [  0,   0,   0, 106, 187, 223, 237, 248, 211, 198, 252, 250, 248,\n",
              "        245, 248, 252, 253, 250, 252, 239, 201, 212, 225, 215, 193, 113,\n",
              "          0,   0],\n",
              "       [  0,   0,   0,   0,   0,  17,  54, 159, 222, 193, 208, 192, 197,\n",
              "        200, 200, 200, 200, 201, 203, 195, 210, 165,   0,   0,   0,   0,\n",
              "          0,   0],\n",
              "       [  0,   0,   0,   0,   0,   0,   0,  47, 225, 192, 214, 203, 206,\n",
              "        204, 204, 205, 206, 204, 212, 197, 218, 107,   0,   0,   0,   0,\n",
              "          0,   0],\n",
              "       [  0,   0,   0,   0,   1,   6,   0,  46, 212, 195, 212, 202, 206,\n",
              "        205, 204, 205, 206, 204, 212, 200, 218,  91,   0,   3,   1,   0,\n",
              "          0,   0],\n",
              "       [  0,   0,   0,   0,   0,   1,   0,  11, 197, 199, 205, 202, 205,\n",
              "        206, 204, 205, 207, 204, 205, 205, 218,  77,   0,   5,   0,   0,\n",
              "          0,   0],\n",
              "       [  0,   0,   0,   0,   0,   3,   0,   2, 191, 198, 201, 205, 206,\n",
              "        205, 205, 206, 209, 206, 199, 209, 219,  74,   0,   5,   0,   0,\n",
              "          0,   0],\n",
              "       [  0,   0,   0,   0,   0,   2,   0,   0, 188, 197, 200, 207, 207,\n",
              "        204, 207, 207, 210, 208, 198, 207, 221,  72,   0,   4,   0,   0,\n",
              "          0,   0],\n",
              "       [  0,   0,   0,   0,   0,   2,   0,   0, 215, 198, 203, 206, 208,\n",
              "        205, 207, 207, 210, 208, 200, 202, 222,  75,   0,   4,   0,   0,\n",
              "          0,   0],\n",
              "       [  0,   0,   0,   0,   0,   1,   0,   0, 212, 198, 209, 206, 209,\n",
              "        206, 208, 207, 211, 206, 205, 198, 221,  80,   0,   3,   0,   0,\n",
              "          0,   0],\n",
              "       [  0,   0,   0,   0,   0,   1,   0,   0, 204, 201, 205, 208, 207,\n",
              "        205, 211, 205, 210, 210, 209, 195, 221,  96,   0,   3,   0,   0,\n",
              "          0,   0],\n",
              "       [  0,   0,   0,   0,   0,   1,   0,   0, 202, 201, 205, 209, 207,\n",
              "        205, 213, 206, 210, 209, 210, 194, 217, 105,   0,   2,   0,   0,\n",
              "          0,   0],\n",
              "       [  0,   0,   0,   0,   0,   1,   0,   0, 204, 204, 205, 208, 207,\n",
              "        205, 215, 207, 210, 208, 211, 193, 213, 115,   0,   2,   0,   0,\n",
              "          0,   0],\n",
              "       [  0,   0,   0,   0,   0,   0,   0,   0, 204, 207, 207, 208, 206,\n",
              "        206, 215, 210, 210, 207, 212, 195, 210, 118,   0,   2,   0,   0,\n",
              "          0,   0],\n",
              "       [  0,   0,   0,   0,   0,   1,   0,   0, 198, 208, 208, 208, 204,\n",
              "        207, 212, 212, 210, 207, 211, 196, 207, 121,   0,   1,   0,   0,\n",
              "          0,   0],\n",
              "       [  0,   0,   0,   0,   0,   1,   0,   0, 198, 210, 207, 208, 206,\n",
              "        209, 213, 212, 211, 207, 210, 197, 207, 124,   0,   1,   0,   0,\n",
              "          0,   0],\n",
              "       [  0,   0,   0,   0,   0,   0,   0,   0, 172, 210, 203, 201, 199,\n",
              "        204, 207, 205, 204, 201, 205, 197, 206, 127,   0,   0,   0,   0,\n",
              "          0,   0],\n",
              "       [  0,   0,   0,   0,   0,   0,   0,   0, 188, 221, 214, 234, 236,\n",
              "        238, 244, 244, 244, 240, 243, 214, 224, 162,   0,   2,   0,   0,\n",
              "          0,   0],\n",
              "       [  0,   0,   0,   0,   0,   1,   0,   0, 139, 146, 130, 135, 135,\n",
              "        137, 125, 124, 125, 121, 119, 114, 130,  76,   0,   0,   0,   0,\n",
              "          0,   0]], dtype=uint8)</pre></div><script>\n",
              "      (() => {\n",
              "      const titles = ['show data', 'hide data'];\n",
              "      let index = 0\n",
              "      document.querySelector('#id-83c9b198-b044-414a-852a-3aeee78242e8 button').onclick = (e) => {\n",
              "        document.querySelector('#id-83c9b198-b044-414a-852a-3aeee78242e8').classList.toggle('show_array');\n",
              "        index = (++index) % 2;\n",
              "        document.querySelector('#id-83c9b198-b044-414a-852a-3aeee78242e8 button').textContent = titles[index];\n",
              "        e.preventDefault();\n",
              "        e.stopPropagation();\n",
              "      }\n",
              "      })();\n",
              "    </script>"
            ]
          },
          "metadata": {},
          "execution_count": 40
        }
      ]
    },
    {
      "cell_type": "code",
      "source": [
        "y_test.shape"
      ],
      "metadata": {
        "id": "rHMAjnylzySP",
        "colab": {
          "base_uri": "https://localhost:8080/"
        },
        "outputId": "c833e2b5-df55-4232-c3a0-92f91d3c6779"
      },
      "execution_count": 41,
      "outputs": [
        {
          "output_type": "execute_result",
          "data": {
            "text/plain": [
              "(10000,)"
            ]
          },
          "metadata": {},
          "execution_count": 41
        }
      ]
    },
    {
      "cell_type": "markdown",
      "source": [
        "If we visualize x_test and y_test:\n",
        "\n",
        "x_test can be thought of as a stack of 28x28 images, stacked 10,000 high.\n",
        "y_test is a 1D array with 10,000 elements, where each element is the label for the corresponding image in x_test. This difference in dimensions is natural because x_test holds the image data, which is inherently 2D for each image, and y_test holds the labels, which are inherently 1D."
      ],
      "metadata": {
        "id": "gw-jlPLV3TAu"
      }
    },
    {
      "cell_type": "markdown",
      "source": [
        "**Feature Normalization**:"
      ],
      "metadata": {
        "id": "gQoB6rVTHmmv"
      }
    },
    {
      "cell_type": "code",
      "source": [
        "import matplotlib.pyplot as plt"
      ],
      "metadata": {
        "id": "cvJf3mdDz2e9"
      },
      "execution_count": 42,
      "outputs": []
    },
    {
      "cell_type": "code",
      "source": [
        "#!pip install matplotlib"
      ],
      "metadata": {
        "id": "FEjPZaJcIimQ"
      },
      "execution_count": 43,
      "outputs": []
    },
    {
      "cell_type": "code",
      "source": [
        "plt.imshow(x_train[1,], cmap=\"gray\")"
      ],
      "metadata": {
        "id": "CKWcG8M2I89m",
        "colab": {
          "base_uri": "https://localhost:8080/",
          "height": 447
        },
        "outputId": "03e85022-b0a5-4005-a71c-0ca81e6a02d6"
      },
      "execution_count": 44,
      "outputs": [
        {
          "output_type": "execute_result",
          "data": {
            "text/plain": [
              "<matplotlib.image.AxesImage at 0x7ff814396e30>"
            ]
          },
          "metadata": {},
          "execution_count": 44
        },
        {
          "output_type": "display_data",
          "data": {
            "text/plain": [
              "<Figure size 640x480 with 1 Axes>"
            ],
            "image/png": "[encoded data removed]"
          },
          "metadata": {}
        }
      ]
    },
    {
      "cell_type": "code",
      "source": [
        "#normalize on train\n",
        "x_train, x_test = x_train/255, x_test/255"
      ],
      "metadata": {
        "id": "LuuR5aB-J3dC"
      },
      "execution_count": 45,
      "outputs": []
    },
    {
      "cell_type": "code",
      "source": [
        "x_train"
      ],
      "metadata": {
        "id": "uFpgt79IKx2l",
        "colab": {
          "base_uri": "https://localhost:8080/"
        },
        "outputId": "5ca7a070-7c08-49fa-b6bf-8729c4a9faf5"
      },
      "execution_count": 46,
      "outputs": [
        {
          "output_type": "execute_result",
          "data": {
            "text/plain": [
              "array([[[0., 0., 0., ..., 0., 0., 0.],\n",
              "        [0., 0., 0., ..., 0., 0., 0.],\n",
              "        [0., 0., 0., ..., 0., 0., 0.],\n",
              "        ...,\n",
              "        [0., 0., 0., ..., 0., 0., 0.],\n",
              "        [0., 0., 0., ..., 0., 0., 0.],\n",
              "        [0., 0., 0., ..., 0., 0., 0.]],\n",
              "\n",
              "       [[0., 0., 0., ..., 0., 0., 0.],\n",
              "        [0., 0., 0., ..., 0., 0., 0.],\n",
              "        [0., 0., 0., ..., 0., 0., 0.],\n",
              "        ...,\n",
              "        [0., 0., 0., ..., 0., 0., 0.],\n",
              "        [0., 0., 0., ..., 0., 0., 0.],\n",
              "        [0., 0., 0., ..., 0., 0., 0.]],\n",
              "\n",
              "       [[0., 0., 0., ..., 0., 0., 0.],\n",
              "        [0., 0., 0., ..., 0., 0., 0.],\n",
              "        [0., 0., 0., ..., 0., 0., 0.],\n",
              "        ...,\n",
              "        [0., 0., 0., ..., 0., 0., 0.],\n",
              "        [0., 0., 0., ..., 0., 0., 0.],\n",
              "        [0., 0., 0., ..., 0., 0., 0.]],\n",
              "\n",
              "       ...,\n",
              "\n",
              "       [[0., 0., 0., ..., 0., 0., 0.],\n",
              "        [0., 0., 0., ..., 0., 0., 0.],\n",
              "        [0., 0., 0., ..., 0., 0., 0.],\n",
              "        ...,\n",
              "        [0., 0., 0., ..., 0., 0., 0.],\n",
              "        [0., 0., 0., ..., 0., 0., 0.],\n",
              "        [0., 0., 0., ..., 0., 0., 0.]],\n",
              "\n",
              "       [[0., 0., 0., ..., 0., 0., 0.],\n",
              "        [0., 0., 0., ..., 0., 0., 0.],\n",
              "        [0., 0., 0., ..., 0., 0., 0.],\n",
              "        ...,\n",
              "        [0., 0., 0., ..., 0., 0., 0.],\n",
              "        [0., 0., 0., ..., 0., 0., 0.],\n",
              "        [0., 0., 0., ..., 0., 0., 0.]],\n",
              "\n",
              "       [[0., 0., 0., ..., 0., 0., 0.],\n",
              "        [0., 0., 0., ..., 0., 0., 0.],\n",
              "        [0., 0., 0., ..., 0., 0., 0.],\n",
              "        ...,\n",
              "        [0., 0., 0., ..., 0., 0., 0.],\n",
              "        [0., 0., 0., ..., 0., 0., 0.],\n",
              "        [0., 0., 0., ..., 0., 0., 0.]]])"
            ]
          },
          "metadata": {},
          "execution_count": 46
        }
      ]
    },
    {
      "cell_type": "markdown",
      "source": [
        "#create model with keras\n",
        "  \n",
        "*   https://keras.io/guides/sequential_model/\n",
        "*   https://keras.io/api/models/sequential/\n",
        "*   https://keras.io/api/layers/reshaping_layers/flatten/ :flatten for the first layer because we have picture but in convolutional we don't need flatten\n",
        "\n",
        "*   In dense model you have to give 1D array or a vector for input layer\n",
        "\n",
        "\n"
      ],
      "metadata": {
        "id": "lKc5mEUPLSoF"
      }
    },
    {
      "cell_type": "code",
      "source": [
        "x_train.shape"
      ],
      "metadata": {
        "id": "sX-QKazmqgPq",
        "colab": {
          "base_uri": "https://localhost:8080/"
        },
        "outputId": "2b7425d7-f5a7-4002-ffa5-da5a7e2cd6dc"
      },
      "execution_count": 47,
      "outputs": [
        {
          "output_type": "execute_result",
          "data": {
            "text/plain": [
              "(60000, 28, 28)"
            ]
          },
          "metadata": {},
          "execution_count": 47
        }
      ]
    },
    {
      "cell_type": "markdown",
      "source": [
        "### Define Model"
      ],
      "metadata": {
        "id": "Y6ah9NPQHGuE"
      }
    },
    {
      "cell_type": "code",
      "source": [
        "#Creating a Sequential model\n",
        "model = keras.Sequential()\n",
        "#using flatten:\n",
        "model.add(keras.layers.Flatten(input_shape=[28, 28]))\n",
        "model.add(keras.layers.Dense(100, activation=\"relu\"))   #100 neurons in first layer\n",
        "model.add(keras.layers.Dense(75, activation=\"relu\"))\n",
        "model.add(keras.layers.Dense(10, activation=\"softmax\"))     #10 for output layer"
      ],
      "metadata": {
        "id": "5X5kBRHiKztu"
      },
      "execution_count": 48,
      "outputs": []
    },
    {
      "cell_type": "markdown",
      "source": [
        "In dense model you have to give 1D array or a vector for input layer"
      ],
      "metadata": {
        "id": "QVBOXuZ8kvQ0"
      }
    },
    {
      "cell_type": "code",
      "source": [
        "#Another type for creating a sequential model\n",
        "# Define Sequential model with 3 layers\n",
        "model = keras.models.Sequential([\n",
        "        keras.layers.Flatten(input_shape=[28, 28]),\n",
        "        keras.layers.Dense(100, activation=\"relu\"),\n",
        "        keras.layers.Dense(75, activation=\"relu\"),\n",
        "        keras.layers.Dense(10, activation=\"softmax\"),\n",
        "])"
      ],
      "metadata": {
        "id": "Ld9lpr5mkrik"
      },
      "execution_count": 49,
      "outputs": []
    },
    {
      "cell_type": "code",
      "source": [
        "model.summary()"
      ],
      "metadata": {
        "id": "SN8Uk6fyugcc",
        "colab": {
          "base_uri": "https://localhost:8080/"
        },
        "outputId": "e94bfb91-908b-4d1a-d07d-ca3f649c4b20"
      },
      "execution_count": 50,
      "outputs": [
        {
          "output_type": "stream",
          "name": "stdout",
          "text": [
            "Model: \"sequential_3\"\n",
            "_________________________________________________________________\n",
            " Layer (type)                Output Shape              Param #   \n",
            "=================================================================\n",
            " flatten_3 (Flatten)         (None, 784)               0         \n",
            "                                                                 \n",
            " dense_9 (Dense)             (None, 100)               78500     \n",
            "                                                                 \n",
            " dense_10 (Dense)            (None, 75)                7575      \n",
            "                                                                 \n",
            " dense_11 (Dense)            (None, 10)                760       \n",
            "                                                                 \n",
            "=================================================================\n",
            "Total params: 86835 (339.20 KB)\n",
            "Trainable params: 86835 (339.20 KB)\n",
            "Non-trainable params: 0 (0.00 Byte)\n",
            "_________________________________________________________________\n"
          ]
        }
      ]
    },
    {
      "cell_type": "markdown",
      "source": [
        "Non-trainable params: 0  => means freezing params"
      ],
      "metadata": {
        "id": "z0sIO5iVBTbD"
      }
    },
    {
      "cell_type": "code",
      "source": [
        "28*28"
      ],
      "metadata": {
        "id": "YIU3RIXYuzCS",
        "colab": {
          "base_uri": "https://localhost:8080/"
        },
        "outputId": "a3306389-341c-4f56-e895-cad40e4d18ef"
      },
      "execution_count": 51,
      "outputs": [
        {
          "output_type": "execute_result",
          "data": {
            "text/plain": [
              "784"
            ]
          },
          "metadata": {},
          "execution_count": 51
        }
      ]
    },
    {
      "cell_type": "code",
      "source": [
        "model.layers"
      ],
      "metadata": {
        "id": "BsUBHMlxu6Q-",
        "colab": {
          "base_uri": "https://localhost:8080/"
        },
        "outputId": "b0a6da39-96d0-4b57-be59-b645ed7a2800"
      },
      "execution_count": 52,
      "outputs": [
        {
          "output_type": "execute_result",
          "data": {
            "text/plain": [
              "[<keras.src.layers.reshaping.flatten.Flatten at 0x7ff816486860>,\n",
              " <keras.src.layers.core.dense.Dense at 0x7ff81649c520>,\n",
              " <keras.src.layers.core.dense.Dense at 0x7ff81649c850>,\n",
              " <keras.src.layers.core.dense.Dense at 0x7ff816486f50>]"
            ]
          },
          "metadata": {},
          "execution_count": 52
        }
      ]
    },
    {
      "cell_type": "code",
      "source": [
        "weights, bias = model.layers[1].get_weights()\n",
        "weights"
      ],
      "metadata": {
        "id": "LA7P9DFnweCP",
        "colab": {
          "base_uri": "https://localhost:8080/"
        },
        "outputId": "43a5090f-8ab5-4227-82be-51f8377707ae"
      },
      "execution_count": 53,
      "outputs": [
        {
          "output_type": "execute_result",
          "data": {
            "text/plain": [
              "array([[ 0.04120152,  0.06207499,  0.06544212, ...,  0.01168969,\n",
              "        -0.06206295, -0.06129239],\n",
              "       [-0.00186347, -0.02676415, -0.0164811 , ..., -0.06481613,\n",
              "        -0.04589549, -0.02286538],\n",
              "       [-0.00634051, -0.04085429, -0.01579117, ...,  0.0683471 ,\n",
              "         0.05186169, -0.0801094 ],\n",
              "       ...,\n",
              "       [-0.07704984,  0.05113032, -0.06176254, ..., -0.05625258,\n",
              "         0.01229902, -0.04797397],\n",
              "       [-0.00640015, -0.03124222,  0.01907451, ..., -0.03815273,\n",
              "        -0.00026018, -0.00253368],\n",
              "       [ 0.03224984,  0.06049676,  0.05883528, ..., -0.02478216,\n",
              "        -0.06066268,  0.08095001]], dtype=float32)"
            ]
          },
          "metadata": {},
          "execution_count": 53
        }
      ]
    },
    {
      "cell_type": "code",
      "source": [
        "weights"
      ],
      "metadata": {
        "id": "XgTbxoCXGmqM",
        "colab": {
          "base_uri": "https://localhost:8080/"
        },
        "outputId": "223abe12-58e4-45b7-b82c-0561396bed00"
      },
      "execution_count": 54,
      "outputs": [
        {
          "output_type": "execute_result",
          "data": {
            "text/plain": [
              "array([[ 0.04120152,  0.06207499,  0.06544212, ...,  0.01168969,\n",
              "        -0.06206295, -0.06129239],\n",
              "       [-0.00186347, -0.02676415, -0.0164811 , ..., -0.06481613,\n",
              "        -0.04589549, -0.02286538],\n",
              "       [-0.00634051, -0.04085429, -0.01579117, ...,  0.0683471 ,\n",
              "         0.05186169, -0.0801094 ],\n",
              "       ...,\n",
              "       [-0.07704984,  0.05113032, -0.06176254, ..., -0.05625258,\n",
              "         0.01229902, -0.04797397],\n",
              "       [-0.00640015, -0.03124222,  0.01907451, ..., -0.03815273,\n",
              "        -0.00026018, -0.00253368],\n",
              "       [ 0.03224984,  0.06049676,  0.05883528, ..., -0.02478216,\n",
              "        -0.06066268,  0.08095001]], dtype=float32)"
            ]
          },
          "metadata": {},
          "execution_count": 54
        }
      ]
    },
    {
      "cell_type": "code",
      "source": [
        "weights.shape"
      ],
      "metadata": {
        "id": "_UX9Kp_vwuPL",
        "colab": {
          "base_uri": "https://localhost:8080/"
        },
        "outputId": "895c5979-67d3-4436-9782-25ff8f596539"
      },
      "execution_count": 55,
      "outputs": [
        {
          "output_type": "execute_result",
          "data": {
            "text/plain": [
              "(784, 100)"
            ]
          },
          "metadata": {},
          "execution_count": 55
        }
      ]
    },
    {
      "cell_type": "code",
      "source": [
        "bias.shape"
      ],
      "metadata": {
        "id": "iJgTyF4AxhTZ",
        "colab": {
          "base_uri": "https://localhost:8080/"
        },
        "outputId": "21ff2906-2e7a-4766-fcc3-620889455b92"
      },
      "execution_count": 56,
      "outputs": [
        {
          "output_type": "execute_result",
          "data": {
            "text/plain": [
              "(100,)"
            ]
          },
          "metadata": {},
          "execution_count": 56
        }
      ]
    },
    {
      "cell_type": "code",
      "source": [
        "bias"
      ],
      "metadata": {
        "id": "4y3mmFksxjxG",
        "colab": {
          "base_uri": "https://localhost:8080/"
        },
        "outputId": "f4c96214-3a6f-48af-8684-06305b665515"
      },
      "execution_count": 57,
      "outputs": [
        {
          "output_type": "execute_result",
          "data": {
            "text/plain": [
              "array([0., 0., 0., 0., 0., 0., 0., 0., 0., 0., 0., 0., 0., 0., 0., 0., 0.,\n",
              "       0., 0., 0., 0., 0., 0., 0., 0., 0., 0., 0., 0., 0., 0., 0., 0., 0.,\n",
              "       0., 0., 0., 0., 0., 0., 0., 0., 0., 0., 0., 0., 0., 0., 0., 0., 0.,\n",
              "       0., 0., 0., 0., 0., 0., 0., 0., 0., 0., 0., 0., 0., 0., 0., 0., 0.,\n",
              "       0., 0., 0., 0., 0., 0., 0., 0., 0., 0., 0., 0., 0., 0., 0., 0., 0.,\n",
              "       0., 0., 0., 0., 0., 0., 0., 0., 0., 0., 0., 0., 0., 0., 0.],\n",
              "      dtype=float32)"
            ]
          },
          "metadata": {},
          "execution_count": 57
        }
      ]
    },
    {
      "cell_type": "markdown",
      "source": [
        "### Compile Model"
      ],
      "metadata": {
        "id": "SkPPweYlHVCt"
      }
    },
    {
      "cell_type": "markdown",
      "source": [
        "https://keras.io/api/models/model_training_apis/"
      ],
      "metadata": {
        "id": "1XnMzCJEHuxU"
      }
    },
    {
      "cell_type": "markdown",
      "source": [
        "Because we have Multiclass classification:"
      ],
      "metadata": {
        "id": "4MVxVsyMLevN"
      }
    },
    {
      "cell_type": "code",
      "source": [
        "model.compile(optimizer=\"sgd\", loss=\"sparse_categorical_crossentropy\", metrics=[\"accuracy\"])"
      ],
      "metadata": {
        "id": "bstQWSstx34H"
      },
      "execution_count": 58,
      "outputs": []
    },
    {
      "cell_type": "markdown",
      "source": [
        "https://keras.io/api/metrics/"
      ],
      "metadata": {
        "id": "uGJmfs30MCwE"
      }
    },
    {
      "cell_type": "markdown",
      "source": [
        "### Fit Model:"
      ],
      "metadata": {
        "id": "KUUbueCiMZfT"
      }
    },
    {
      "cell_type": "markdown",
      "source": [
        "**Why do we fit the model?**  \n",
        "We fit the model to enable it to learn from the given data and improve its prediction accuracy. Here’s a detailed explanation of why we fit the model and what the process involves:\n",
        "\n",
        "Why do we fit the model?  \n",
        "\n",
        "\n",
        "1.   Learning Patterns from Data:\n",
        "\n",
        " *   When we fit a model, it tries to learn the relationships and patterns in the\n",
        "input data (features) and output data (labels). This process involves adjusting the model's internal weights and biases so that it can make accurate predictions based on new data.\n",
        "\n",
        "2.   Improving Prediction Accuracy:\n",
        "\n",
        " *   The goal of fitting the model is to minimize prediction errors. This is achieved by using optimization algorithms like gradient descent, which aim to reduce the difference between the model’s predictions and the actual values.\n",
        "\n",
        "3.   Generalization:\n",
        "\n",
        " *   Fitting the model helps it to generalize well not only on the training data but also on new, unseen data. This means learning the general features of the data that help the model perform well on diverse datasets.\n",
        "\n",
        "\n",
        "**Steps in Fitting the Model**  \n",
        "1. Preparing the Data:\n",
        "\n",
        " - Data is split into training and evaluation (validation/test) sets.\n",
        " - Training data is used for learning, and evaluation data is used for assessing the model's performance.\n",
        "\n",
        "2. Defining the Model:\n",
        "\n",
        " - The model is defined using various layers and architectures. For example, in neural networks, layers such as Dense, Convolutional, etc., are defined.\n",
        "3. Compiling the Model:\n",
        "\n",
        " - The model is compiled using a loss function and an optimizer.\n",
        "\n",
        " - Example: model.fit(x_train, y_train, epochs=10, validation_data=(x_val, y_val))\n",
        "  - In this step, the model adjusts its weights to best match the data.\n"
      ],
      "metadata": {
        "id": "0hGq8jbjVTl8"
      }
    },
    {
      "cell_type": "markdown",
      "source": [
        "https://keras.io/api/models/model_training_apis/"
      ],
      "metadata": {
        "id": "9fXaA1PvMn7k"
      }
    },
    {
      "cell_type": "code",
      "source": [
        "history = model.fit(x_train, y_train, epochs=50, validation_split=0.15)"
      ],
      "metadata": {
        "colab": {
          "base_uri": "https://localhost:8080/"
        },
        "id": "85sJrhiDMJx1",
        "outputId": "447a53a9-74ee-4ed6-d813-87bb31c506fb"
      },
      "execution_count": 59,
      "outputs": [
        {
          "output_type": "stream",
          "name": "stdout",
          "text": [
            "Epoch 1/50\n",
            "1594/1594 [==============================] - 10s 6ms/step - loss: 0.7601 - accuracy: 0.7516 - val_loss: 0.5521 - val_accuracy: 0.8093\n",
            "Epoch 2/50\n",
            "1594/1594 [==============================] - 5s 3ms/step - loss: 0.5064 - accuracy: 0.8238 - val_loss: 0.5278 - val_accuracy: 0.8122\n",
            "Epoch 3/50\n",
            "1594/1594 [==============================] - 6s 4ms/step - loss: 0.4571 - accuracy: 0.8400 - val_loss: 0.4784 - val_accuracy: 0.8251\n",
            "Epoch 4/50\n",
            "1594/1594 [==============================] - 6s 4ms/step - loss: 0.4309 - accuracy: 0.8477 - val_loss: 0.4296 - val_accuracy: 0.8486\n",
            "Epoch 5/50\n",
            "1594/1594 [==============================] - 5s 3ms/step - loss: 0.4094 - accuracy: 0.8556 - val_loss: 0.4244 - val_accuracy: 0.8543\n",
            "Epoch 6/50\n",
            "1594/1594 [==============================] - 7s 5ms/step - loss: 0.3949 - accuracy: 0.8610 - val_loss: 0.3981 - val_accuracy: 0.8584\n",
            "Epoch 7/50\n",
            "1594/1594 [==============================] - 7s 4ms/step - loss: 0.3812 - accuracy: 0.8659 - val_loss: 0.3923 - val_accuracy: 0.8629\n",
            "Epoch 8/50\n",
            "1594/1594 [==============================] - 7s 4ms/step - loss: 0.3686 - accuracy: 0.8703 - val_loss: 0.4143 - val_accuracy: 0.8536\n",
            "Epoch 9/50\n",
            "1594/1594 [==============================] - 5s 3ms/step - loss: 0.3596 - accuracy: 0.8716 - val_loss: 0.3894 - val_accuracy: 0.8637\n",
            "Epoch 10/50\n",
            "1594/1594 [==============================] - 7s 4ms/step - loss: 0.3502 - accuracy: 0.8762 - val_loss: 0.3743 - val_accuracy: 0.8674\n",
            "Epoch 11/50\n",
            "1594/1594 [==============================] - 6s 4ms/step - loss: 0.3422 - accuracy: 0.8787 - val_loss: 0.3677 - val_accuracy: 0.8707\n",
            "Epoch 12/50\n",
            "1594/1594 [==============================] - 7s 4ms/step - loss: 0.3341 - accuracy: 0.8810 - val_loss: 0.3684 - val_accuracy: 0.8701\n",
            "Epoch 13/50\n",
            "1594/1594 [==============================] - 6s 3ms/step - loss: 0.3288 - accuracy: 0.8829 - val_loss: 0.3615 - val_accuracy: 0.8709\n",
            "Epoch 14/50\n",
            "1594/1594 [==============================] - 7s 4ms/step - loss: 0.3201 - accuracy: 0.8845 - val_loss: 0.3857 - val_accuracy: 0.8596\n",
            "Epoch 15/50\n",
            "1594/1594 [==============================] - 5s 3ms/step - loss: 0.3155 - accuracy: 0.8870 - val_loss: 0.3467 - val_accuracy: 0.8779\n",
            "Epoch 16/50\n",
            "1594/1594 [==============================] - 7s 4ms/step - loss: 0.3089 - accuracy: 0.8897 - val_loss: 0.3574 - val_accuracy: 0.8713\n",
            "Epoch 17/50\n",
            "1594/1594 [==============================] - 5s 3ms/step - loss: 0.3050 - accuracy: 0.8898 - val_loss: 0.3436 - val_accuracy: 0.8768\n",
            "Epoch 18/50\n",
            "1594/1594 [==============================] - 6s 4ms/step - loss: 0.2997 - accuracy: 0.8915 - val_loss: 0.3649 - val_accuracy: 0.8672\n",
            "Epoch 19/50\n",
            "1594/1594 [==============================] - 5s 3ms/step - loss: 0.2946 - accuracy: 0.8946 - val_loss: 0.3474 - val_accuracy: 0.8766\n",
            "Epoch 20/50\n",
            "1594/1594 [==============================] - 6s 4ms/step - loss: 0.2901 - accuracy: 0.8953 - val_loss: 0.3381 - val_accuracy: 0.8801\n",
            "Epoch 21/50\n",
            "1594/1594 [==============================] - 5s 3ms/step - loss: 0.2864 - accuracy: 0.8967 - val_loss: 0.3368 - val_accuracy: 0.8803\n",
            "Epoch 22/50\n",
            "1594/1594 [==============================] - 5s 3ms/step - loss: 0.2812 - accuracy: 0.8995 - val_loss: 0.3441 - val_accuracy: 0.8757\n",
            "Epoch 23/50\n",
            "1594/1594 [==============================] - 7s 4ms/step - loss: 0.2778 - accuracy: 0.9013 - val_loss: 0.3384 - val_accuracy: 0.8776\n",
            "Epoch 24/50\n",
            "1594/1594 [==============================] - 5s 3ms/step - loss: 0.2735 - accuracy: 0.9011 - val_loss: 0.3486 - val_accuracy: 0.8744\n",
            "Epoch 25/50\n",
            "1594/1594 [==============================] - 7s 4ms/step - loss: 0.2698 - accuracy: 0.9025 - val_loss: 0.3448 - val_accuracy: 0.8772\n",
            "Epoch 26/50\n",
            "1594/1594 [==============================] - 5s 3ms/step - loss: 0.2663 - accuracy: 0.9035 - val_loss: 0.3376 - val_accuracy: 0.8794\n",
            "Epoch 27/50\n",
            "1594/1594 [==============================] - 6s 4ms/step - loss: 0.2623 - accuracy: 0.9057 - val_loss: 0.3444 - val_accuracy: 0.8779\n",
            "Epoch 28/50\n",
            "1594/1594 [==============================] - 5s 3ms/step - loss: 0.2601 - accuracy: 0.9059 - val_loss: 0.3293 - val_accuracy: 0.8832\n",
            "Epoch 29/50\n",
            "1594/1594 [==============================] - 5s 3ms/step - loss: 0.2565 - accuracy: 0.9072 - val_loss: 0.3221 - val_accuracy: 0.8864\n",
            "Epoch 30/50\n",
            "1594/1594 [==============================] - 6s 4ms/step - loss: 0.2527 - accuracy: 0.9086 - val_loss: 0.3246 - val_accuracy: 0.8860\n",
            "Epoch 31/50\n",
            "1594/1594 [==============================] - 5s 3ms/step - loss: 0.2494 - accuracy: 0.9102 - val_loss: 0.3200 - val_accuracy: 0.8863\n",
            "Epoch 32/50\n",
            "1594/1594 [==============================] - 6s 4ms/step - loss: 0.2453 - accuracy: 0.9117 - val_loss: 0.3133 - val_accuracy: 0.8902\n",
            "Epoch 33/50\n",
            "1594/1594 [==============================] - 5s 3ms/step - loss: 0.2427 - accuracy: 0.9124 - val_loss: 0.3293 - val_accuracy: 0.8853\n",
            "Epoch 34/50\n",
            "1594/1594 [==============================] - 6s 4ms/step - loss: 0.2417 - accuracy: 0.9118 - val_loss: 0.3306 - val_accuracy: 0.8838\n",
            "Epoch 35/50\n",
            "1594/1594 [==============================] - 5s 3ms/step - loss: 0.2381 - accuracy: 0.9136 - val_loss: 0.3171 - val_accuracy: 0.8880\n",
            "Epoch 36/50\n",
            "1594/1594 [==============================] - 6s 4ms/step - loss: 0.2348 - accuracy: 0.9143 - val_loss: 0.3175 - val_accuracy: 0.8871\n",
            "Epoch 37/50\n",
            "1594/1594 [==============================] - 7s 4ms/step - loss: 0.2314 - accuracy: 0.9169 - val_loss: 0.3203 - val_accuracy: 0.8877\n",
            "Epoch 38/50\n",
            "1594/1594 [==============================] - 7s 5ms/step - loss: 0.2291 - accuracy: 0.9175 - val_loss: 0.3212 - val_accuracy: 0.8882\n",
            "Epoch 39/50\n",
            "1594/1594 [==============================] - 5s 3ms/step - loss: 0.2266 - accuracy: 0.9172 - val_loss: 0.3408 - val_accuracy: 0.8813\n",
            "Epoch 40/50\n",
            "1594/1594 [==============================] - 5s 3ms/step - loss: 0.2238 - accuracy: 0.9190 - val_loss: 0.3239 - val_accuracy: 0.8861\n",
            "Epoch 41/50\n",
            "1594/1594 [==============================] - 6s 4ms/step - loss: 0.2206 - accuracy: 0.9200 - val_loss: 0.3307 - val_accuracy: 0.8847\n",
            "Epoch 42/50\n",
            "1594/1594 [==============================] - 5s 3ms/step - loss: 0.2186 - accuracy: 0.9203 - val_loss: 0.3177 - val_accuracy: 0.8892\n",
            "Epoch 43/50\n",
            "1594/1594 [==============================] - 6s 4ms/step - loss: 0.2162 - accuracy: 0.9219 - val_loss: 0.3262 - val_accuracy: 0.8849\n",
            "Epoch 44/50\n",
            "1594/1594 [==============================] - 5s 3ms/step - loss: 0.2138 - accuracy: 0.9219 - val_loss: 0.3377 - val_accuracy: 0.8839\n",
            "Epoch 45/50\n",
            "1594/1594 [==============================] - 6s 4ms/step - loss: 0.2107 - accuracy: 0.9228 - val_loss: 0.3346 - val_accuracy: 0.8846\n",
            "Epoch 46/50\n",
            "1594/1594 [==============================] - 5s 3ms/step - loss: 0.2085 - accuracy: 0.9237 - val_loss: 0.3165 - val_accuracy: 0.8913\n",
            "Epoch 47/50\n",
            "1594/1594 [==============================] - 6s 4ms/step - loss: 0.2066 - accuracy: 0.9252 - val_loss: 0.3169 - val_accuracy: 0.8879\n",
            "Epoch 48/50\n",
            "1594/1594 [==============================] - 6s 4ms/step - loss: 0.2035 - accuracy: 0.9274 - val_loss: 0.3297 - val_accuracy: 0.8862\n",
            "Epoch 49/50\n",
            "1594/1594 [==============================] - 5s 3ms/step - loss: 0.2026 - accuracy: 0.9268 - val_loss: 0.3119 - val_accuracy: 0.8918\n",
            "Epoch 50/50\n",
            "1594/1594 [==============================] - 7s 4ms/step - loss: 0.2000 - accuracy: 0.9271 - val_loss: 0.3306 - val_accuracy: 0.8894\n"
          ]
        }
      ]
    },
    {
      "cell_type": "markdown",
      "source": [
        "**What is the difference between validation and test data?**\n",
        "In machine learning, data is divided into different sets to train, optimize, and evaluate the model. These sets usually include training data, validation data, and test data. Here is the difference between these sets:\n",
        "\n",
        "**Training Data**\n",
        "\n",
        " - Purpose: Used to train the model.\n",
        " - Role: The model uses this data to learn patterns and internal parameters. This data helps the model understand the relationship between features and labels.\n",
        " - Process: The model optimizes its weights and biases using optimization algorithms on this data.\n",
        "\n",
        "**Validation Data**\n",
        " - Purpose: Used to tune hyperparameters and perform interim evaluations of the model.\n",
        " - Role: This data helps the model during the training process to find the best settings for hyperparameters and prevent overfitting.\n",
        " - Process: Validation data is used to evaluate the model temporarily during training. The results from the validation data help in tuning parameters such as learning rate, number of layers, number of neurons, etc.\n",
        " - Example: The model might be evaluated on validation data after each epoch to see if there is any improvement.\n",
        "\n",
        "**Test Data**\n",
        " - Purpose: Used for the final evaluation of the model.\n",
        " - Role: Test data is used only once, after the model has been fully trained, to assess the model's final performance. This data helps us understand how well the model can perform on new, unseen data.\n",
        " - Process: After training and tuning hyperparameters, the model is evaluated on test data to determine its final accuracy and performance. This evaluation shows how well the model can generalize to real-world data.\n",
        "\n",
        "\n",
        "\n",
        " | Feature         | Training Data                        | Validation Data                      | Test Data                         |\n",
        "|-----------------|--------------------------------------|--------------------------------------|-----------------------------------|\n",
        "| **Purpose**     | To train the model                   | To tune hyperparameters and prevent overfitting | To evaluate the final model performance |\n",
        "| **Role**        | Learning patterns and parameters     | Interim evaluation and improvement   | Final assessment of performance   |\n",
        "| **Usage**       | During training                      | During training                      | After training                    |\n",
        "| **Evaluation**  | Optimizing internal parameters       | Optimizing hyperparameters           | Final performance evaluation      |\n"
      ],
      "metadata": {
        "id": "Wa0VZJUP0RlP"
      }
    },
    {
      "cell_type": "code",
      "source": [
        "history.epoch"
      ],
      "metadata": {
        "id": "jIUMhpKgp44e",
        "colab": {
          "base_uri": "https://localhost:8080/"
        },
        "outputId": "3f609d82-2423-4a31-a121-4f4423b9af9f"
      },
      "execution_count": 60,
      "outputs": [
        {
          "output_type": "execute_result",
          "data": {
            "text/plain": [
              "[0,\n",
              " 1,\n",
              " 2,\n",
              " 3,\n",
              " 4,\n",
              " 5,\n",
              " 6,\n",
              " 7,\n",
              " 8,\n",
              " 9,\n",
              " 10,\n",
              " 11,\n",
              " 12,\n",
              " 13,\n",
              " 14,\n",
              " 15,\n",
              " 16,\n",
              " 17,\n",
              " 18,\n",
              " 19,\n",
              " 20,\n",
              " 21,\n",
              " 22,\n",
              " 23,\n",
              " 24,\n",
              " 25,\n",
              " 26,\n",
              " 27,\n",
              " 28,\n",
              " 29,\n",
              " 30,\n",
              " 31,\n",
              " 32,\n",
              " 33,\n",
              " 34,\n",
              " 35,\n",
              " 36,\n",
              " 37,\n",
              " 38,\n",
              " 39,\n",
              " 40,\n",
              " 41,\n",
              " 42,\n",
              " 43,\n",
              " 44,\n",
              " 45,\n",
              " 46,\n",
              " 47,\n",
              " 48,\n",
              " 49]"
            ]
          },
          "metadata": {},
          "execution_count": 60
        }
      ]
    },
    {
      "cell_type": "code",
      "source": [
        "print(history.history)\n",
        "#or history.param"
      ],
      "metadata": {
        "id": "Usd_FNvnqQoN",
        "colab": {
          "base_uri": "https://localhost:8080/"
        },
        "outputId": "b2ac8d4e-999c-454e-db0c-5cd04f480ac7"
      },
      "execution_count": 61,
      "outputs": [
        {
          "output_type": "stream",
          "name": "stdout",
          "text": [
            "{'loss': [0.7601115703582764, 0.5064190626144409, 0.45707467198371887, 0.43087825179100037, 0.4094215929508209, 0.3948964774608612, 0.38115280866622925, 0.36855658888816833, 0.3595564365386963, 0.35023385286331177, 0.3421879708766937, 0.3341391980648041, 0.32875293493270874, 0.3201340436935425, 0.315459668636322, 0.3089330494403839, 0.3049575984477997, 0.2997250258922577, 0.2945825755596161, 0.2901313900947571, 0.286428302526474, 0.2812190055847168, 0.2777915298938751, 0.27353739738464355, 0.26982271671295166, 0.2662883400917053, 0.2623128890991211, 0.26006945967674255, 0.25648805499076843, 0.2526584267616272, 0.2493528425693512, 0.24530541896820068, 0.24269410967826843, 0.2417408972978592, 0.23811033368110657, 0.23477861285209656, 0.23141586780548096, 0.2291409820318222, 0.22660206258296967, 0.22377172112464905, 0.22056029736995697, 0.21861964464187622, 0.21622750163078308, 0.21375446021556854, 0.2107296586036682, 0.2084580659866333, 0.20656998455524445, 0.20352794229984283, 0.20258593559265137, 0.1999707669019699], 'accuracy': [0.7516470551490784, 0.8237646818161011, 0.8399608135223389, 0.8477451205253601, 0.855647087097168, 0.8610000014305115, 0.8658627271652222, 0.8703137040138245, 0.8715686202049255, 0.8761764764785767, 0.8787450790405273, 0.8810392022132874, 0.8829411864280701, 0.8844705820083618, 0.8870000243186951, 0.8897058963775635, 0.8897843360900879, 0.8914510011672974, 0.8946470618247986, 0.895254909992218, 0.8967058658599854, 0.8994705677032471, 0.9012745022773743, 0.9011372327804565, 0.9024509787559509, 0.9034901857376099, 0.9056862592697144, 0.9058823585510254, 0.9071764945983887, 0.9086470603942871, 0.91019606590271, 0.9117254614830017, 0.9124117493629456, 0.9118235111236572, 0.9136274456977844, 0.9142745137214661, 0.9169019460678101, 0.9174705743789673, 0.9172353148460388, 0.9190195798873901, 0.9200392365455627, 0.9202548861503601, 0.9218823313713074, 0.9219411611557007, 0.9227843284606934, 0.9236862659454346, 0.9251764416694641, 0.9274313449859619, 0.9268039464950562, 0.9270784258842468], 'val_loss': [0.5521441698074341, 0.5277994871139526, 0.47844454646110535, 0.42958885431289673, 0.4244009852409363, 0.39810800552368164, 0.39231178164482117, 0.4143112897872925, 0.38936179876327515, 0.3742632567882538, 0.36768510937690735, 0.36844590306282043, 0.36152347922325134, 0.3856664299964905, 0.3466927707195282, 0.35740959644317627, 0.3436052203178406, 0.36492303013801575, 0.3473617434501648, 0.3380894362926483, 0.3367578387260437, 0.34414830803871155, 0.3384149372577667, 0.348589688539505, 0.34479403495788574, 0.33761534094810486, 0.3443939983844757, 0.32929930090904236, 0.32205599546432495, 0.3246351480484009, 0.3199646472930908, 0.31329411268234253, 0.3293217122554779, 0.3306359350681305, 0.3170507848262787, 0.3175373077392578, 0.3202778995037079, 0.3211827874183655, 0.3407629728317261, 0.3239488899707794, 0.330739825963974, 0.31774306297302246, 0.3261655867099762, 0.33774396777153015, 0.3346326947212219, 0.31647732853889465, 0.3168983459472656, 0.3296934962272644, 0.31187868118286133, 0.33061280846595764], 'val_accuracy': [0.809333324432373, 0.8122222423553467, 0.8251110911369324, 0.8485555648803711, 0.8543333411216736, 0.8584444522857666, 0.8628888726234436, 0.8535555601119995, 0.8636666536331177, 0.8674444556236267, 0.8706666827201843, 0.8701111078262329, 0.870888888835907, 0.8595555424690247, 0.8778889179229736, 0.8713333606719971, 0.8767777681350708, 0.867222249507904, 0.8765555620193481, 0.8801110982894897, 0.8803333044052124, 0.8756666779518127, 0.8775555491447449, 0.8744444251060486, 0.8772222399711609, 0.879444420337677, 0.8778889179229736, 0.883222222328186, 0.8864444494247437, 0.8859999775886536, 0.8863333463668823, 0.8902222514152527, 0.8853333592414856, 0.8837777972221375, 0.8880000114440918, 0.8871111273765564, 0.887666642665863, 0.8882222175598145, 0.8813333511352539, 0.8861111402511597, 0.8846666812896729, 0.8892222046852112, 0.8848888874053955, 0.8838889002799988, 0.8845555782318115, 0.8913333415985107, 0.8878889083862305, 0.886222243309021, 0.891777753829956, 0.8894444704055786]}\n"
          ]
        }
      ]
    },
    {
      "cell_type": "code",
      "source": [
        "fig, ax = plt.subplots(figsize=(12,5))\n",
        "ax.plot(history.history[\"loss\"], label=\"Training Loss\")\n",
        "ax.plot(history.history[\"accuracy\"], label=\"Training Accuracy\")\n",
        "ax.plot(history.history[\"val_loss\"], label=\"Validation Loss\")\n",
        "ax.plot(history.history[\"val_accuracy\"], label=\"Validation Accuracy\")\n",
        "ax.set_xlabel(\"Epochs\")\n",
        "ax.set_ylabel(\"Value\")\n",
        "ax.set_title(\"Training and Validation Loss and Accuracy\")\n",
        "ax.legend()\n",
        "plt.show()"
      ],
      "metadata": {
        "id": "X1ob7SebqTe-",
        "colab": {
          "base_uri": "https://localhost:8080/",
          "height": 487
        },
        "outputId": "f798b725-ce51-496d-c490-0434121a3a7c"
      },
      "execution_count": 62,
      "outputs": [
        {
          "output_type": "display_data",
          "data": {
            "text/plain": [
              "<Figure size 1200x500 with 1 Axes>"
            ],
            "image/png": "[encoded data removed]"
          },
          "metadata": {}
        }
      ]
    },
    {
      "cell_type": "code",
      "source": [
        "model.evaluate(x_test, y_test, verbose=2)"
      ],
      "metadata": {
        "id": "PdH5lRVWBiok",
        "colab": {
          "base_uri": "https://localhost:8080/"
        },
        "outputId": "2f8e687a-6081-4e03-bdea-3e10bd822afa"
      },
      "execution_count": 65,
      "outputs": [
        {
          "output_type": "stream",
          "name": "stdout",
          "text": [
            "313/313 - 1s - loss: 0.3517 - accuracy: 0.8778 - 586ms/epoch - 2ms/step\n"
          ]
        },
        {
          "output_type": "execute_result",
          "data": {
            "text/plain": [
              "[0.3517054319381714, 0.8777999877929688]"
            ]
          },
          "metadata": {},
          "execution_count": 65
        }
      ]
    },
    {
      "cell_type": "markdown",
      "source": [
        "`By setting verbose 0, 1 or 2 you just say how do you want to 'see' the training progress for each epoch.\n",
        "\n",
        "verbose=0 will show you nothing (silent)\n",
        "\n",
        "verbose=1 will show you an animated progress bar\n",
        "\n",
        "verbose=2 will just mention the number of epoch'\n",
        "\n",
        "Verbose is a general programming term for produce lots of logging output. You can think of it as asking the program to \"tell me everything about what you are doing all the time\"."
      ],
      "metadata": {
        "id": "nMDfqjgivMtf"
      }
    }
  ]
}